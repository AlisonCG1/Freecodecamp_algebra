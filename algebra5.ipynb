{
 "cells": [
  {
   "cell_type": "code",
   "execution_count": 1,
   "id": "13425dd7-37b4-4e2d-95ef-d27bc0d7c43b",
   "metadata": {},
   "outputs": [
    {
     "name": "stdout",
     "output_type": "stream",
     "text": [
      "Intel MKL WARNING: Support of Intel(R) Streaming SIMD Extensions 4.2 (Intel(R) SSE4.2) enabled only processors has been deprecated. Intel oneAPI Math Kernel Library 2025.0 will require Intel(R) Advanced Vector Extensions (Intel(R) AVX) instructions.\n",
      "Intel MKL WARNING: Support of Intel(R) Streaming SIMD Extensions 4.2 (Intel(R) SSE4.2) enabled only processors has been deprecated. Intel oneAPI Math Kernel Library 2025.0 will require Intel(R) Advanced Vector Extensions (Intel(R) AVX) instructions.\n"
     ]
    }
   ],
   "source": [
    "import sympy \n",
    "from sympy import *\n",
    "from sympy import symbols \n",
    "from sympy.solvers import solve \n",
    "import matplotlib.pyplot as plt\n",
    "from sympy.plotting import plot\n",
    "from sympy import sqrt "
   ]
  },
  {
   "cell_type": "code",
   "execution_count": 2,
   "id": "afd85569-9586-4974-a175-63861575f8f4",
   "metadata": {},
   "outputs": [],
   "source": [
    "import numpy as np\n",
    "import matplotlib.pyplot as plt\n",
    "import math\n",
    "%matplotlib inline"
   ]
  },
  {
   "cell_type": "code",
   "execution_count": 3,
   "id": "8de00715-6363-4920-8522-73d412763fe2",
   "metadata": {},
   "outputs": [],
   "source": [
    "\n",
    "from ipywidgets import interactive\n",
    "import pandas as pd\n",
    "import io"
   ]
  },
  {
   "cell_type": "markdown",
   "id": "05b9da84-6be5-429e-b8f4-80a9f554f1b7",
   "metadata": {},
   "source": [
    "# Word Problems \n",
    "\n",
    "Linear functions practice"
   ]
  },
  {
   "cell_type": "markdown",
   "id": "8e93b22a-1248-4d7c-ab86-dc5fe035e9ae",
   "metadata": {},
   "source": [
    "Jessica is walking home from a friend's house. After 2 minutes she is 1.4 miles from home. Twelve minutes after leaving, she is 0.9 miles from home. What is her rate in miles per hour?"
   ]
  },
  {
   "cell_type": "code",
   "execution_count": null,
   "id": "1a95eeb9-bb6f-4c21-8722-24a4f6a6e13b",
   "metadata": {},
   "outputs": [],
   "source": [
    "x1 = 2/60 #1\n",
    "y1 = 1.4 #7\n",
    "x2 = 12/60 #2\n",
    "y2 = .9 #10\n",
    "\n",
    "# The slope is \"m\"\n",
    "m = (y2 - y1) / (x2 - x1)\n",
    "\n",
    "# The y-intercept is \"b\"\n",
    "b = y1 - m*x1\n",
    "\n",
    "# The full equation\n",
    "print(\"y = \", m, \"x + \", b)\n",
    "\n",
    "# For the graph\n",
    "xmin = -10\n",
    "xmax = 10\n",
    "ymin = -10\n",
    "ymax = 10\n",
    "\n",
    "# For the line on the graph\n",
    "y3 = m*xmin + b \n",
    "y4 = m*xmax + b \n",
    "\n",
    "# Basic setup for the graph\n",
    "fig, ax = plt.subplots()\n",
    "plt.axis([xmin,xmax,ymin,ymax]) # window size\n",
    "plt.plot([xmin,xmax],[0,0],'b') # blue x axis\n",
    "plt.plot([0,0],[ymin,ymax], 'b') # blue y-axis\n",
    "\n",
    "# Plot the linear function as a red line\n",
    "plt.plot([xmin,xmax],[y3,y4],'r')\n",
    "\n",
    "plt.show()"
   ]
  },
  {
   "cell_type": "markdown",
   "id": "302fe77d-7b37-477f-9eab-b8b6d6cfbd7a",
   "metadata": {},
   "source": [
    "- 4𝑥−7𝑦=10\n",
    "- 7𝑥+4𝑦=1 "
   ]
  },
  {
   "cell_type": "code",
   "execution_count": null,
   "id": "7a0ea9de-598d-4660-8554-e58c1da4936b",
   "metadata": {},
   "outputs": [],
   "source": [
    "#Solve and graph. Factor to change from \"0 =\" to \"y =\" preparing to graph\n",
    "\n",
    "var('x y') \n",
    "\n",
    "# First equation set equal to zero, ready to solve\n",
    "first = 4*x - 7*y - 10 \n",
    "#first = sqrt(x) - y\n",
    "\n",
    "#Second equation set equal to zero, ready to solve\n",
    "second = 7*x + 4*y -1 \n",
    "#second = -x + 5 - y\n",
    "\n",
    "# Solve - can be linear or nonlinear equations\n",
    "solution = nonlinsolve([first, second], (x, y)) \n",
    "for a in range(len(solution.args)):\n",
    "    x_solution = solution.args[a][0] \n",
    "    y_solution = solution.args[a][1] \n",
    "    print(\"Solution = (\", x_solution, \",\", y_solution, \")\")\n",
    "\n",
    "# Sympy syntax for equation equal to zero, ready to factor\n",
    "y_first = Eq(first,0) \n",
    "\n",
    "# Sympy solve for y\n",
    "y1 = solve(y_first,y) \n",
    "\n",
    "# Same two steps for second equation\n",
    "y_second = Eq(second,0) \n",
    "y2 = solve(y_second,y)\n",
    "\n",
    "# Show factored results\n",
    "print(\"y = \", y1[0])\n",
    "print(\"y = \", y2[0])\n",
    "\n",
    "# Plot solution\n",
    "x = symbols('x')\n",
    "xmin = -10\n",
    "xmax = 10\n",
    "plot(y1[0], y2[0], (x,xmin,xmax));"
   ]
  },
  {
   "cell_type": "markdown",
   "id": "e72039ef-304f-49b2-b9b6-7e949a5d3344",
   "metadata": {},
   "source": [
    "- 3𝑦+𝑥=12\n",
    "- −𝑦=8𝑥+1 "
   ]
  },
  {
   "cell_type": "code",
   "execution_count": null,
   "id": "44813de3-b5ad-46c4-8a6e-d333fb250207",
   "metadata": {},
   "outputs": [],
   "source": [
    "var('x y') \n",
    "\n",
    "# First equation set equal to zero, ready to solve\n",
    "first = 3*y + x - 12\n",
    "\n",
    "\n",
    "#Second equation set equal to zero, ready to solve\n",
    "second = 8*x + 1 + y \n",
    "\n",
    "\n",
    "# Solve - can be linear or nonlinear equations\n",
    "solution = nonlinsolve([first, second], (x, y)) \n",
    "for a in range(len(solution.args)):\n",
    "    x_solution = solution.args[a][0] \n",
    "    y_solution = solution.args[a][1] \n",
    "    print(\"Solution = (\", x_solution, \",\", y_solution, \")\")\n",
    "\n",
    "# Sympy syntax for equation equal to zero, ready to factor\n",
    "y_first = Eq(first,0) \n",
    "\n",
    "# Sympy solve for y\n",
    "y1 = solve(y_first,y) \n",
    "\n",
    "# Same two steps for second equation\n",
    "y_second = Eq(second,0) \n",
    "y2 = solve(y_second,y)\n",
    "\n",
    "# Show factored results\n",
    "print(\"y = \", y1[0])\n",
    "print(\"y = \", y2[0])\n",
    "\n",
    "# Plot solution\n",
    "x = symbols('x')\n",
    "xmin = -10\n",
    "xmax = 10\n",
    "plot(y1[0], y2[0], (x,xmin,xmax));"
   ]
  },
  {
   "cell_type": "markdown",
   "id": "24e3c6d9-80f3-4816-ab3b-b45ec70ce526",
   "metadata": {},
   "source": [
    "- 𝑥 \t0\t5\t10\t15\n",
    "- 𝑔(𝑥) \t5\t–10\t–25\t–40\n"
   ]
  },
  {
   "cell_type": "code",
   "execution_count": null,
   "id": "7e59b086-a7ca-4813-9c18-4d9c71e6af24",
   "metadata": {},
   "outputs": [],
   "source": [
    "# Define the graphing function\n",
    "def f(zoom):\n",
    "    xmin = -zoom\n",
    "    xmax = zoom\n",
    "    ymin = -zoom\n",
    "    ymax = zoom\n",
    "    points = 10*xmax-xmin\n",
    "    #x = np.linspace(xmin, xmax, points)\n",
    "    x = [0,5,10,15]\n",
    "\n",
    "    fig, ax = plt.subplots()\n",
    "    plt.axis([xmin,xmax,ymin,ymax]) # window size\n",
    "    plt.plot([xmin,xmax],[0,0],'black') # black x axis\n",
    "    plt.plot([0,0],[ymin,ymax], 'black') # black y axis\n",
    "\n",
    "    # Change y1 to be any function\n",
    "    #y1 = \n",
    "    y1 = [5,-10,-25,-40]\n",
    "    plt.plot(x, y1, 'ro')\n",
    "    \n",
    "\n",
    "    ax.set_xlabel(\"x values\")\n",
    "    ax.set_ylabel(\"y values\")\n",
    "    ax.set_title(\"Some Graph\")\n",
    "    ticks = int(round((xmax-xmin)/10))\n",
    "    ax.set_xticks(np.arange(xmin, xmax, ticks))\n",
    "    ax.set_yticks(np.arange(ymin, ymax, ticks))\n",
    "    ax.grid(True)\n",
    "    plt.show()\n",
    "\n",
    "# Set up the slider\n",
    "interactive_plot = interactive(f, zoom=(1,100))\n",
    "interactive_plot"
   ]
  },
  {
   "cell_type": "markdown",
   "id": "23c78dac-3b9e-44ef-8a0c-083d00c41382",
   "metadata": {},
   "source": [
    ".\tA gym membership with two personal training sessions costs 125, while gym membership with five personal training sessions costs 260. What is cost per session?"
   ]
  },
  {
   "cell_type": "code",
   "execution_count": 4,
   "id": "7e37bb51-a00b-4314-9ba6-0a04500fc231",
   "metadata": {},
   "outputs": [
    {
     "name": "stdout",
     "output_type": "stream",
     "text": [
      "y =  45.0 x +  35.0\n"
     ]
    },
    {
     "data": {
      "image/png": "[encoded data removed]",
      "text/plain": [
       "<Figure size 640x480 with 1 Axes>"
      ]
     },
     "metadata": {},
     "output_type": "display_data"
    }
   ],
   "source": [
    "x1 = 2 \n",
    "y1 = 125 \n",
    "x2 = 5 \n",
    "y2 = 260 \n",
    "\n",
    "# The slope is \"m\"\n",
    "m = (y2 - y1) / (x2 - x1)\n",
    "\n",
    "# The y-intercept is \"b\"\n",
    "b = y1 - m*x1\n",
    "\n",
    "# The full equation\n",
    "print(\"y = \", m, \"x + \", b)\n",
    "\n",
    "# For the graph\n",
    "xmin = 0\n",
    "xmax = 10\n",
    "ymin = 0\n",
    "ymax = 500\n",
    "\n",
    "# For the line on the graph\n",
    "y3 = m*xmin + b \n",
    "y4 = m*xmax + b \n",
    "\n",
    "# Basic setup for the graph\n",
    "fig, ax = plt.subplots()\n",
    "plt.axis([xmin,xmax,ymin,ymax]) # window size\n",
    "plt.plot([xmin,xmax],[0,0],'b') # blue x axis\n",
    "plt.plot([0,0],[ymin,ymax], 'b') # blue y-axis\n",
    "\n",
    "# Plot the linear function as a red line\n",
    "plt.plot([xmin,xmax],[y3,y4],'r')\n",
    "\n",
    "plt.show()"
   ]
  },
  {
   "cell_type": "markdown",
   "id": "41a26879-3d12-42a0-8276-523135b0d250",
   "metadata": {},
   "source": [
    "# Quadratics\n",
    "\n",
    "A quadratic equation in math is a second-degree equation of the form ax2 + bx + c = 0. Here a and b are the coefficients, c is the constant term, and x is the variable. Since the variable x is of the second degree, there are two roots or answers for this quadratic equation."
   ]
  },
  {
   "cell_type": "code",
   "execution_count": 5,
   "id": "2ed3efe1-036d-4405-810d-25852461ffae",
   "metadata": {},
   "outputs": [
    {
     "name": "stdout",
     "output_type": "stream",
     "text": [
      "y =  1 x**2 +  5 x +  6\n",
      "Vertex: ( -2.5 , -0.25 )\n",
      "Roots: x =  -2.0  and x =  -3.0\n"
     ]
    }
   ],
   "source": [
    "# Solve a quadratic equation\n",
    "# Coefficient values\n",
    "a = 1\n",
    "b = 5\n",
    "c = 6\n",
    "\n",
    "print(\"y = \", a, \"x**2 + \", b, \"x + \", c) \n",
    "\n",
    "# Vertex\n",
    "vx = -b/(2*a) \n",
    "vy = a*(vx**2) + b*vx + c \n",
    "print(\"Vertex: (\",vx,\",\",vy,\")\")\n",
    "\n",
    "# Roots\n",
    "d = b**2 - 4*a*c \n",
    "if d>=0: \n",
    "    root_1 = (-b + math.sqrt(d))/(2*a) \n",
    "    root_2 = (-b - math.sqrt(d))/(2*a) \n",
    "    print(\"Roots: x = \", root_1, \" and x = \", root_2)\n",
    "else:\n",
    "    print(\"No real roots\")"
   ]
  },
  {
   "cell_type": "code",
   "execution_count": 6,
   "id": "753d855a-743b-4a5a-9dcd-f07f29a7663c",
   "metadata": {},
   "outputs": [
    {
     "name": "stdout",
     "output_type": "stream",
     "text": [
      "y =  1 x**2 +  5 x +  6\n",
      "Vertex: ( -2.5 , -0.25 )\n",
      "Roots: x =  -2.0  and x =  -3.0\n"
     ]
    },
    {
     "data": {
      "image/png": "[encoded data removed]",
      "text/plain": [
       "<Figure size 640x480 with 1 Axes>"
      ]
     },
     "metadata": {},
     "output_type": "display_data"
    }
   ],
   "source": [
    "a = 1\n",
    "b = 5\n",
    "c = 6\n",
    "\n",
    "print(\"y = \", a, \"x**2 + \", b, \"x + \", c) \n",
    "\n",
    "# Vertex\n",
    "vx = -b/(2*a) \n",
    "vy = a*(vx**2) + b*vx + c \n",
    "print(\"Vertex: (\",vx,\",\",vy,\")\")\n",
    "\n",
    "xmin = -10\n",
    "xmax = 10\n",
    "ymin = -10\n",
    "ymax = 10\n",
    "points = 10*(xmax-xmin)\n",
    "x = np.linspace(xmin,xmax,points) \n",
    "\n",
    "fig, ax = plt.subplots()\n",
    "plt.axis([xmin,xmax,ymin,ymax]) # window size\n",
    "plt.plot([xmin,xmax],[0,0],'b') # blue x axis\n",
    "plt.plot([0,0],[ymin,ymax], 'b') # blue y axis\n",
    "\n",
    "# Graph the parabola\n",
    "y1 = a*x**2 + b*x + c \n",
    "plt.plot(x, y1) \n",
    "\n",
    "# Plot the vertex point\n",
    "plt.plot([vx],[vy], 'ro') \n",
    "\n",
    "# Find and plot the roots\n",
    "d = b**2 - 4*a*c \n",
    "if d>=0: \n",
    "    root_1 = (-b + math.sqrt(d))/(2*a) \n",
    "    root_2 = (-b - math.sqrt(d))/(2*a) \n",
    "    plt.plot([root_1, root_2],[0,0], 'go') \n",
    "    print(\"Roots: x = \", root_1, \" and x = \", root_2)\n",
    "\n",
    "plt.show() "
   ]
  },
  {
   "cell_type": "markdown",
   "id": "1ee2dc25-2af7-490d-85ff-3dcb185d9d26",
   "metadata": {},
   "source": [
    "NOTE: In general, for quadratic equations with integer coefficients, if the discriminant b2 - 4ac in the quadratic equation ax2 + bx + c = 0 is a perfect square, then the solutions are rational. The square root of an integer that is not a perfect square is irrational."
   ]
  },
  {
   "cell_type": "code",
   "execution_count": 7,
   "id": "eadaeb44-afb9-4191-822d-5905d4d83ac1",
   "metadata": {},
   "outputs": [
    {
     "data": {
      "application/vnd.jupyter.widget-view+json": {
       "model_id": "eb551dc01e36491493b881a223ae6490",
       "version_major": 2,
       "version_minor": 0
      },
      "text/plain": [
       "interactive(children=(IntSlider(value=5, description='a', max=9, min=1), IntSlider(value=0, description='b', m…"
      ]
     },
     "execution_count": 7,
     "metadata": {},
     "output_type": "execute_result"
    }
   ],
   "source": [
    "# All graphing happens in this function\n",
    "def f(a,b,c):\n",
    "    xmin = -10\n",
    "    xmax = 10\n",
    "    ymin = -10\n",
    "    ymax = 10\n",
    "    points = 10*(xmax-xmin)\n",
    "    x = np.linspace(xmin,xmax,points)\n",
    "\n",
    "    plt.axis([xmin,xmax,ymin,ymax]) # window size\n",
    "    plt.plot([xmin,xmax],[0,0],'b') # x axis\n",
    "    plt.plot([0,0],[ymin,ymax], 'b') # y axis\n",
    "\n",
    "    # Parabola\n",
    "    y1 = a*x**2 + b*x + c \n",
    "    plt.plot(x, y1) \n",
    "\n",
    "    # Vertex\n",
    "    vx = -b/(2*a) \n",
    "    vy = a*(vx**2) + b*vx + c \n",
    "    plt.plot([vx],[vy], 'ro') \n",
    "\n",
    "    # Roots\n",
    "    d = b**2 - 4*a*c \n",
    "    if d>=0: \n",
    "        root_1 = (-b + math.sqrt(d))/(2*a) \n",
    "        root_2 = (-b - math.sqrt(d))/(2*a) \n",
    "        plt.plot([root_1, root_2],[0,0], 'go') \n",
    "    \n",
    "    # Set the equation as the title\n",
    "    sa = str(a)\n",
    "    sb = str(b)\n",
    "    sc = str(c)\n",
    "    h1 = \"y = \", sa, \"x**2 + \", sb, \"x + \", sc\n",
    "    h2 = \"\"\n",
    "    for w in h1:\n",
    "        h2 = h2 + w\n",
    "\n",
    "    plt.title(h2)\n",
    "    plt.show()\n",
    "\n",
    "# Interactive creates sliders for a, b, and c values\n",
    "interactive_plot = interactive(f, a=(1, 9), b=(-9,9), c=(-9,9))\n",
    "interactive_plot"
   ]
  }
 ],
 "metadata": {
  "kernelspec": {
   "display_name": "Python 3 (ipykernel)",
   "language": "python",
   "name": "python3"
  },
  "language_info": {
   "codemirror_mode": {
    "name": "ipython",
    "version": 3
   },
   "file_extension": ".py",
   "mimetype": "text/x-python",
   "name": "python",
   "nbconvert_exporter": "python",
   "pygments_lexer": "ipython3",
   "version": "3.9.19"
  }
 },
 "nbformat": 4,
 "nbformat_minor": 5
}
