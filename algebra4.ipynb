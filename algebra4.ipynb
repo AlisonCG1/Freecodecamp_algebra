{
 "cells": [
  {
   "cell_type": "markdown",
   "id": "60bad9aa-8510-42da-9ff6-b0bed611b915",
   "metadata": {},
   "source": [
    "Quadratics"
   ]
  },
  {
   "cell_type": "code",
   "execution_count": null,
   "id": "2313540f-551d-4159-b09f-a94260127d65",
   "metadata": {},
   "outputs": [],
   "source": [
    "# Coefficient values\n",
    "a = 1\n",
    "b = 5\n",
    "c = 6\n",
    "\n",
    "print(\"y = \", a, \"x**2 + \", b, \"x + \", c) \n",
    "\n",
    "# Vertex\n",
    "vx = -b/(2*a) \n",
    "vy = a*(vx**2) + b*vx + c \n",
    "print(\"Vertex: (\",vx,\",\",vy,\")\")\n",
    "\n",
    "# Roots\n",
    "d = b**2 - 4*a*c \n",
    "if d>=0: \n",
    "    root_1 = (-b + math.sqrt(d))/(2*a) \n",
    "    root_2 = (-b - math.sqrt(d))/(2*a) \n",
    "    print(\"Roots: x = \", root_1, \" and x = \", root_2)\n",
    "else:\n",
    "    print(\"No real roots\")\n"
   ]
  },
  {
   "cell_type": "code",
   "execution_count": null,
   "id": "96bb9920-721b-4a77-acb7-7e65e4df158f",
   "metadata": {},
   "outputs": [],
   "source": []
  },
  {
   "cell_type": "code",
   "execution_count": null,
   "id": "7a0ea9de-598d-4660-8554-e58c1da4936b",
   "metadata": {},
   "outputs": [],
   "source": []
  }
 ],
 "metadata": {
  "kernelspec": {
   "display_name": "Python 3 (ipykernel)",
   "language": "python",
   "name": "python3"
  },
  "language_info": {
   "codemirror_mode": {
    "name": "ipython",
    "version": 3
   },
   "file_extension": ".py",
   "mimetype": "text/x-python",
   "name": "python",
   "nbconvert_exporter": "python",
   "pygments_lexer": "ipython3",
   "version": "3.9.19"
  }
 },
 "nbformat": 4,
 "nbformat_minor": 5
}
