{
 "cells": [
  {
   "cell_type": "markdown",
   "id": "4754883c",
   "metadata": {},
   "source": []
  },
  {
   "cell_type": "markdown",
   "id": "6cc34dfd",
   "metadata": {},
   "source": [
    "# Factoring"
   ]
  },
  {
   "cell_type": "code",
   "execution_count": 8,
   "id": "1d168a1a",
   "metadata": {},
   "outputs": [],
   "source": [
    "import math\n",
    "import sympy\n",
    "from sympy import symbols"
   ]
  },
  {
   "cell_type": "code",
   "execution_count": 1,
   "id": "3bbe8862",
   "metadata": {},
   "outputs": [
    {
     "name": "stdout",
     "output_type": "stream",
     "text": [
      "1\n"
     ]
    }
   ],
   "source": [
    "#print(5%3) \n",
    "\n",
    "print(31%10) "
   ]
  },
  {
   "cell_type": "code",
   "execution_count": 2,
   "id": "0f6adef5",
   "metadata": {},
   "outputs": [
    {
     "name": "stdout",
     "output_type": "stream",
     "text": [
      "1\n",
      "2\n",
      "3\n",
      "4\n",
      "6\n",
      "12\n"
     ]
    }
   ],
   "source": [
    "number = 12 \n",
    "\n",
    "# Find all factors \n",
    "for test_factor in range(1,number+1): \n",
    "    if number%test_factor==0: \n",
    "        print(test_factor) "
   ]
  },
  {
   "cell_type": "code",
   "execution_count": 3,
   "id": "593f4192",
   "metadata": {},
   "outputs": [
    {
     "name": "stdout",
     "output_type": "stream",
     "text": [
      "original:  12 / 24\n",
      "reduced:  1 / 2\n"
     ]
    }
   ],
   "source": [
    "numerator = 12\n",
    "denominator = 24\n",
    "factor = 1\n",
    "\n",
    "# Find greatest common factor \n",
    "for test_factor in range(1,denominator+1): \n",
    "    if numerator%test_factor==0 and denominator%test_factor==0:\n",
    "        factor = test_factor \n",
    "\n",
    "# Divide out greatest common factor \n",
    "n = int(numerator/factor) \n",
    "d = int(denominator/factor) \n",
    "\n",
    "print(\"original: \", numerator, \"/\", denominator) \n",
    "print(\"reduced: \", n, \"/\", d) "
   ]
  },
  {
   "cell_type": "code",
   "execution_count": 4,
   "id": "a6ec8084",
   "metadata": {},
   "outputs": [
    {
     "name": "stdout",
     "output_type": "stream",
     "text": [
      "Enter a decimal number to convert: 12\n",
      "The decimal is  12.0\n",
      "The fraction is  12 / 1\n"
     ]
    }
   ],
   "source": [
    "# Get the decimal number to convert\n",
    "digits = input(\"Enter a decimal number to convert: \") \n",
    "\n",
    "# Convert to fraction \n",
    "exponent = int(len(digits))-1 \n",
    "n = float(digits) \n",
    "numerator = int(n * 10**exponent) \n",
    "denominator = 10**exponent \n",
    "\n",
    "# Reduce that fraction\n",
    "factor = 1 \n",
    "for test_factor in range(1,denominator+1): \n",
    "    if numerator%test_factor==0 and denominator%test_factor==0: \n",
    "        factor = test_factor \n",
    "\n",
    "# Divide out greatest common factor \n",
    "num = int(numerator/factor) \n",
    "den = int(denominator/factor) \n",
    "\n",
    "# Output \n",
    "print(\"The decimal is \", n) \n",
    "print(\"The fraction is \", num, \"/\", den) "
   ]
  },
  {
   "cell_type": "code",
   "execution_count": 6,
   "id": "771e3f58",
   "metadata": {},
   "outputs": [
    {
     "name": "stdout",
     "output_type": "stream",
     "text": [
      "4.898979485566356\n"
     ]
    }
   ],
   "source": [
    "#Next level... factoring square roots\n",
    "print(math.sqrt(24)) "
   ]
  },
  {
   "cell_type": "markdown",
   "id": "5297b7e6",
   "metadata": {},
   "source": [
    "Divide out any perfect square factors. For example:\n",
    "12‾‾‾√  =  4∗3‾‾‾‾‾√  = 2 3‾√ \n",
    "Because 4 is a square number, the square root of 4 is now outside the radical."
   ]
  },
  {
   "cell_type": "code",
   "execution_count": 7,
   "id": "e0d87ee5",
   "metadata": {},
   "outputs": [
    {
     "name": "stdout",
     "output_type": "stream",
     "text": [
      "n =  12\n",
      "Square rooted factor =  2\n",
      "Square factor =  4\n",
      "integer:  3.0\n"
     ]
    }
   ],
   "source": [
    "# number to factor\n",
    "n = 12 \n",
    "\n",
    "# This variable will change\n",
    "max_factor = 1 \n",
    "\n",
    "# The key ingredient\n",
    "upper_limit = math.floor(math.sqrt(n)) + 1 \n",
    "\n",
    "# Find square factors\n",
    "for maybe_factor in range(1,upper_limit): \n",
    "    if n % (maybe_factor**2) == 0: \n",
    "        max_factor = maybe_factor \n",
    "\n",
    "# Results so far\n",
    "print(\"n = \", n) \n",
    "print(\"Square rooted factor = \", max_factor) \n",
    "print(\"Square factor = \", max_factor**2) \n",
    "print(\"integer: \", n/(max_factor**2)) "
   ]
  },
  {
   "cell_type": "code",
   "execution_count": 9,
   "id": "6641a64c",
   "metadata": {},
   "outputs": [
    {
     "data": {
      "text/latex": [
       "$\\displaystyle 2 \\sqrt{6}$"
      ],
      "text/plain": [
       "2*sqrt(6)"
      ]
     },
     "execution_count": 9,
     "metadata": {},
     "output_type": "execute_result"
    }
   ],
   "source": [
    "#Using Sympy to make this look nice\n",
    "\n",
    "n = 24 \n",
    "\n",
    "# Use these variables\n",
    "upper_limit = math.floor(math.sqrt(n)) + 1 \n",
    "max_factor = 1 \n",
    "other_factor = 1 \n",
    "square_root = 1 \n",
    "\n",
    "# Slightly different variable strategy\n",
    "for maybe_factor in range(1, upper_limit): \n",
    "    if n % (maybe_factor**2) == 0: \n",
    "        max_factor = maybe_factor**2 \n",
    "\n",
    "# Divide out the greatest square factor\n",
    "other_factor = n/max_factor \n",
    "\n",
    "# Output variables\n",
    "square_root = int(math.sqrt(max_factor)) \n",
    "other_factor = int(other_factor) \n",
    "output = square_root*sympy.sqrt(other_factor) \n",
    "\n",
    "# Sympy output without print statement - must be last line\n",
    "output "
   ]
  },
  {
   "cell_type": "markdown",
   "id": "09525563",
   "metadata": {},
   "source": [
    "Multi-Function Calculator\n",
    "\n",
    "For this challenge, you need to create a multi-function calculator using Python that take input and do the following:\n",
    "\n",
    "solve proportions\n",
    "solve for x in equations\n",
    "factor square roots\n",
    "convert decimals to fractions and percents\n",
    "convert fractions to decimals and percents\n",
    "convert percents to decimals and fractions"
   ]
  },
  {
   "cell_type": "markdown",
   "id": "586c2360",
   "metadata": {},
   "source": [
    "Step 1 - Add\n",
    "\n",
    "To help you get familiar with Colab notebooks, you will start with the basics. Python uses +, -, *, and / for the four math operations: add, subtract, multiply, and divide. When you add two numbers, the result is the sum. Use addition within the print statement to get the sum of a and b. To run the code, you can hit \"shift\" and \"enter\" or you can click the run button (the triangle inside a circle)."
   ]
  },
  {
   "cell_type": "code",
   "execution_count": 13,
   "id": "dd08e1e8",
   "metadata": {},
   "outputs": [
    {
     "name": "stdout",
     "output_type": "stream",
     "text": [
      "Requirement already satisfied: requests in /Users/alisoncordoba/opt/anaconda3/lib/python3.9/site-packages (2.31.0)\n",
      "Requirement already satisfied: charset-normalizer<4,>=2 in /Users/alisoncordoba/opt/anaconda3/lib/python3.9/site-packages (from requests) (2.0.4)\n",
      "Requirement already satisfied: idna<4,>=2.5 in /Users/alisoncordoba/opt/anaconda3/lib/python3.9/site-packages (from requests) (3.4)\n",
      "Requirement already satisfied: urllib3<3,>=1.21.1 in /Users/alisoncordoba/opt/anaconda3/lib/python3.9/site-packages (from requests) (1.26.18)\n",
      "Requirement already satisfied: certifi>=2017.4.17 in /Users/alisoncordoba/opt/anaconda3/lib/python3.9/site-packages (from requests) (2023.11.17)\n",
      "\n",
      " Test passed. You can go on to the next step.\n"
     ]
    }
   ],
   "source": [
    "# You may need to run this cell at the beginning of each new session\n",
    "\n",
    "!pip install requests\n",
    "\n",
    "# This will just take a few seconds\n",
    "\n",
    "import requests\n",
    "\n",
    "# Get the library from GitHub\n",
    "url = 'https://raw.githubusercontent.com/freeCodeCamp/cdn/main/build/math-cert-tests/math-code-test-a.py'\n",
    "r = requests.get(url)\n",
    "\n",
    "# Save the library in a local working directory\n",
    "with open('math_code_test_a.py', 'w') as f:\n",
    "    f.write(r.text)\n",
    "\n",
    "# Now you can import the library\n",
    "import math_code_test_a as test\n",
    "\n",
    "# This will tell you if the code works\n",
    "test.step19()"
   ]
  },
  {
   "cell_type": "code",
   "execution_count": 14,
   "id": "15ea8441",
   "metadata": {},
   "outputs": [
    {
     "name": "stdout",
     "output_type": "stream",
     "text": [
      "3\n",
      " \n",
      "Code test passed\n",
      "Go on to the next step\n"
     ]
    }
   ],
   "source": [
    "a=1\n",
    "b=2\n",
    "\n",
    "# Change the next line to print the sum of a and b\n",
    "print(a + b)\n",
    "\n",
    "\n",
    "# Only change code above this line\n",
    "import math_code_test_a as test\n",
    "test.step01(In[-1].split('# Only change code above this line')[0])"
   ]
  },
  {
   "cell_type": "markdown",
   "id": "0953d82f",
   "metadata": {},
   "source": [
    "# Step 2 - Subtract\n",
    "\n",
    "When you subtract two numbers, the result is the difference. Use subtraction in the print statement to get the difference between c and d. Remember to use \"shift\" and \"enter\" to run the code."
   ]
  },
  {
   "cell_type": "code",
   "execution_count": 15,
   "id": "b63c26bf",
   "metadata": {},
   "outputs": [
    {
     "name": "stdout",
     "output_type": "stream",
     "text": [
      "4\n",
      " \n",
      "Code test passed\n",
      "Go on to the next step\n"
     ]
    }
   ],
   "source": [
    "c = 7\n",
    "d = 3\n",
    "\n",
    "# Change the next line to print the positive difference between c and d\n",
    "print(c - d)\n",
    "\n",
    "test.step02(In[-1].split('# Only change code above this line')[0])"
   ]
  },
  {
   "cell_type": "markdown",
   "id": "8cfda3ed",
   "metadata": {},
   "source": [
    "Step 3 - Multiply\n",
    "\n",
    "When you multiply numbers, the result is the product. Use multiplication within the print statement to get the product of e and f:"
   ]
  },
  {
   "cell_type": "code",
   "execution_count": 16,
   "id": "9683797c",
   "metadata": {},
   "outputs": [
    {
     "name": "stdout",
     "output_type": "stream",
     "text": [
      "8\n",
      " \n",
      "Code test passed\n",
      "Go on to the next step\n"
     ]
    }
   ],
   "source": [
    "e = 2\n",
    "f = 4\n",
    "\n",
    "# Change the next line to print the product of e and f\n",
    "print(e * f)\n",
    "\n",
    "\n",
    "# Only change code above this line\n",
    "test.step03(In[-1].split('# Only change code above this line')[0])"
   ]
  },
  {
   "cell_type": "markdown",
   "id": "065a3a1c",
   "metadata": {},
   "source": [
    "Step 4 - Divide\n",
    "When you divide two numbers, the result is the quotient. Use division within the print statement to get the quotient of g and h:"
   ]
  },
  {
   "cell_type": "code",
   "execution_count": 17,
   "id": "ad41c487",
   "metadata": {},
   "outputs": [
    {
     "name": "stdout",
     "output_type": "stream",
     "text": [
      "2.0\n",
      " \n",
      "Code test passed\n",
      "Go on to the next step\n"
     ]
    }
   ],
   "source": [
    "g = 8\n",
    "h = 4\n",
    "\n",
    "# Change the next line\n",
    "print(g / h)\n",
    "\n",
    "\n",
    "# Only change code above this line\n",
    "test.step04(In[-1].split('# Only change code above this line')[0])"
   ]
  },
  {
   "cell_type": "code",
   "execution_count": null,
   "id": "03c08fc3",
   "metadata": {},
   "outputs": [],
   "source": []
  },
  {
   "cell_type": "code",
   "execution_count": null,
   "id": "62e360d1",
   "metadata": {},
   "outputs": [],
   "source": []
  }
 ],
 "metadata": {
  "kernelspec": {
   "display_name": "Python 3 (ipykernel)",
   "language": "python",
   "name": "python3"
  },
  "language_info": {
   "codemirror_mode": {
    "name": "ipython",
    "version": 3
   },
   "file_extension": ".py",
   "mimetype": "text/x-python",
   "name": "python",
   "nbconvert_exporter": "python",
   "pygments_lexer": "ipython3",
   "version": "3.9.18"
  }
 },
 "nbformat": 4,
 "nbformat_minor": 5
}
