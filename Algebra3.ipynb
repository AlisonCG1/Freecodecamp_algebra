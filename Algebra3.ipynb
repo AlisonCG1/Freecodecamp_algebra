{
 "cells": [
  {
   "cell_type": "markdown",
   "id": "4ac34f42",
   "metadata": {},
   "source": []
  },
  {
   "cell_type": "markdown",
   "id": "1ed56ad6",
   "metadata": {},
   "source": [
    "# Factoring"
   ]
  },
  {
   "cell_type": "code",
   "execution_count": 24,
   "id": "bbc629ad",
   "metadata": {},
   "outputs": [],
   "source": [
    "import math\n",
    "import sympy\n",
    "from sympy import symbols\n",
    "from sympy.solvers import solve"
   ]
  },
  {
   "cell_type": "code",
   "execution_count": 1,
   "id": "8c71cbbc",
   "metadata": {},
   "outputs": [
    {
     "name": "stdout",
     "output_type": "stream",
     "text": [
      "1\n"
     ]
    }
   ],
   "source": [
    "#print(5%3) \n",
    "\n",
    "print(31%10) "
   ]
  },
  {
   "cell_type": "code",
   "execution_count": 2,
   "id": "cd2fd377",
   "metadata": {},
   "outputs": [
    {
     "name": "stdout",
     "output_type": "stream",
     "text": [
      "1\n",
      "2\n",
      "3\n",
      "4\n",
      "6\n",
      "12\n"
     ]
    }
   ],
   "source": [
    "number = 12 \n",
    "\n",
    "# Find all factors \n",
    "for test_factor in range(1,number+1): \n",
    "    if number%test_factor==0: \n",
    "        print(test_factor) "
   ]
  },
  {
   "cell_type": "code",
   "execution_count": 3,
   "id": "6efe4c77",
   "metadata": {},
   "outputs": [
    {
     "name": "stdout",
     "output_type": "stream",
     "text": [
      "original:  12 / 24\n",
      "reduced:  1 / 2\n"
     ]
    }
   ],
   "source": [
    "numerator = 12\n",
    "denominator = 24\n",
    "factor = 1\n",
    "\n",
    "# Find greatest common factor \n",
    "for test_factor in range(1,denominator+1): \n",
    "    if numerator%test_factor==0 and denominator%test_factor==0:\n",
    "        factor = test_factor \n",
    "\n",
    "# Divide out greatest common factor \n",
    "n = int(numerator/factor) \n",
    "d = int(denominator/factor) \n",
    "\n",
    "print(\"original: \", numerator, \"/\", denominator) \n",
    "print(\"reduced: \", n, \"/\", d) "
   ]
  },
  {
   "cell_type": "code",
   "execution_count": 4,
   "id": "7bf562b4",
   "metadata": {},
   "outputs": [
    {
     "name": "stdout",
     "output_type": "stream",
     "text": [
      "Enter a decimal number to convert: 12\n",
      "The decimal is  12.0\n",
      "The fraction is  12 / 1\n"
     ]
    }
   ],
   "source": [
    "# Get the decimal number to convert\n",
    "digits = input(\"Enter a decimal number to convert: \") \n",
    "\n",
    "# Convert to fraction \n",
    "exponent = int(len(digits))-1 \n",
    "n = float(digits) \n",
    "numerator = int(n * 10**exponent) \n",
    "denominator = 10**exponent \n",
    "\n",
    "# Reduce that fraction\n",
    "factor = 1 \n",
    "for test_factor in range(1,denominator+1): \n",
    "    if numerator%test_factor==0 and denominator%test_factor==0: \n",
    "        factor = test_factor \n",
    "\n",
    "# Divide out greatest common factor \n",
    "num = int(numerator/factor) \n",
    "den = int(denominator/factor) \n",
    "\n",
    "# Output \n",
    "print(\"The decimal is \", n) \n",
    "print(\"The fraction is \", num, \"/\", den) "
   ]
  },
  {
   "cell_type": "code",
   "execution_count": 6,
   "id": "9ee95012",
   "metadata": {},
   "outputs": [
    {
     "name": "stdout",
     "output_type": "stream",
     "text": [
      "4.898979485566356\n"
     ]
    }
   ],
   "source": [
    "#Next level... factoring square roots\n",
    "print(math.sqrt(24)) "
   ]
  },
  {
   "cell_type": "markdown",
   "id": "4b7efca6",
   "metadata": {},
   "source": [
    "Divide out any perfect square factors. For example:\n",
    "12‾‾‾√  =  4∗3‾‾‾‾‾√  = 2 3‾√ \n",
    "Because 4 is a square number, the square root of 4 is now outside the radical."
   ]
  },
  {
   "cell_type": "code",
   "execution_count": 7,
   "id": "d7d4f9e8",
   "metadata": {},
   "outputs": [
    {
     "name": "stdout",
     "output_type": "stream",
     "text": [
      "n =  12\n",
      "Square rooted factor =  2\n",
      "Square factor =  4\n",
      "integer:  3.0\n"
     ]
    }
   ],
   "source": [
    "# number to factor\n",
    "n = 12 \n",
    "\n",
    "# This variable will change\n",
    "max_factor = 1 \n",
    "\n",
    "# The key ingredient\n",
    "upper_limit = math.floor(math.sqrt(n)) + 1 \n",
    "\n",
    "# Find square factors\n",
    "for maybe_factor in range(1,upper_limit): \n",
    "    if n % (maybe_factor**2) == 0: \n",
    "        max_factor = maybe_factor \n",
    "\n",
    "# Results so far\n",
    "print(\"n = \", n) \n",
    "print(\"Square rooted factor = \", max_factor) \n",
    "print(\"Square factor = \", max_factor**2) \n",
    "print(\"integer: \", n/(max_factor**2)) "
   ]
  },
  {
   "cell_type": "code",
   "execution_count": 9,
   "id": "f461a78e",
   "metadata": {},
   "outputs": [
    {
     "data": {
      "text/latex": [
       "$\\displaystyle 2 \\sqrt{6}$"
      ],
      "text/plain": [
       "2*sqrt(6)"
      ]
     },
     "execution_count": 9,
     "metadata": {},
     "output_type": "execute_result"
    }
   ],
   "source": [
    "#Using Sympy to make this look nice\n",
    "\n",
    "n = 24 \n",
    "\n",
    "# Use these variables\n",
    "upper_limit = math.floor(math.sqrt(n)) + 1 \n",
    "max_factor = 1 \n",
    "other_factor = 1 \n",
    "square_root = 1 \n",
    "\n",
    "# Slightly different variable strategy\n",
    "for maybe_factor in range(1, upper_limit): \n",
    "    if n % (maybe_factor**2) == 0: \n",
    "        max_factor = maybe_factor**2 \n",
    "\n",
    "# Divide out the greatest square factor\n",
    "other_factor = n/max_factor \n",
    "\n",
    "# Output variables\n",
    "square_root = int(math.sqrt(max_factor)) \n",
    "other_factor = int(other_factor) \n",
    "output = square_root*sympy.sqrt(other_factor) \n",
    "\n",
    "# Sympy output without print statement - must be last line\n",
    "output "
   ]
  },
  {
   "cell_type": "markdown",
   "id": "5338869e",
   "metadata": {},
   "source": [
    "Multi-Function Calculator\n",
    "\n",
    "For this challenge, you need to create a multi-function calculator using Python that take input and do the following:\n",
    "\n",
    "solve proportions\n",
    "solve for x in equations\n",
    "factor square roots\n",
    "convert decimals to fractions and percents\n",
    "convert fractions to decimals and percents\n",
    "convert percents to decimals and fractions"
   ]
  },
  {
   "cell_type": "markdown",
   "id": "2195862e",
   "metadata": {},
   "source": [
    "Step 1 - Add\n",
    "\n",
    "To help you get familiar with Colab notebooks, you will start with the basics. Python uses +, -, *, and / for the four math operations: add, subtract, multiply, and divide. When you add two numbers, the result is the sum. Use addition within the print statement to get the sum of a and b. To run the code, you can hit \"shift\" and \"enter\" or you can click the run button (the triangle inside a circle)."
   ]
  },
  {
   "cell_type": "code",
   "execution_count": 1,
   "id": "38c70e02",
   "metadata": {},
   "outputs": [
    {
     "name": "stdout",
     "output_type": "stream",
     "text": [
      "Requirement already satisfied: requests in /Users/alisoncordoba/opt/anaconda3/lib/python3.9/site-packages (2.31.0)\n",
      "Requirement already satisfied: charset-normalizer<4,>=2 in /Users/alisoncordoba/opt/anaconda3/lib/python3.9/site-packages (from requests) (2.0.4)\n",
      "Requirement already satisfied: idna<4,>=2.5 in /Users/alisoncordoba/opt/anaconda3/lib/python3.9/site-packages (from requests) (3.4)\n",
      "Requirement already satisfied: urllib3<3,>=1.21.1 in /Users/alisoncordoba/opt/anaconda3/lib/python3.9/site-packages (from requests) (1.26.18)\n",
      "Requirement already satisfied: certifi>=2017.4.17 in /Users/alisoncordoba/opt/anaconda3/lib/python3.9/site-packages (from requests) (2023.11.17)\n",
      "\n",
      " Test passed. You can go on to the next step.\n"
     ]
    }
   ],
   "source": [
    "# You may need to run this cell at the beginning of each new session\n",
    "\n",
    "!pip install requests\n",
    "\n",
    "# This will just take a few seconds\n",
    "\n",
    "import requests\n",
    "\n",
    "# Get the library from GitHub\n",
    "url = 'https://raw.githubusercontent.com/freeCodeCamp/cdn/main/build/math-cert-tests/math-code-test-a.py'\n",
    "r = requests.get(url)\n",
    "\n",
    "# Save the library in a local working directory\n",
    "with open('math_code_test_a.py', 'w') as f:\n",
    "    f.write(r.text)\n",
    "\n",
    "# Now you can import the library\n",
    "import math_code_test_a as test\n",
    "\n",
    "# This will tell you if the code works\n",
    "test.step19()"
   ]
  },
  {
   "cell_type": "code",
   "execution_count": 2,
   "id": "bff891bf",
   "metadata": {},
   "outputs": [
    {
     "name": "stdout",
     "output_type": "stream",
     "text": [
      "3\n",
      " \n",
      "Code test passed\n",
      "Go on to the next step\n"
     ]
    }
   ],
   "source": [
    "a=1\n",
    "b=2\n",
    "\n",
    "# Change the next line to print the sum of a and b\n",
    "print(a + b)\n",
    "\n",
    "\n",
    "# Only change code above this line\n",
    "import math_code_test_a as test\n",
    "test.step01(In[-1].split('# Only change code above this line')[0])"
   ]
  },
  {
   "cell_type": "markdown",
   "id": "eb0ede73",
   "metadata": {},
   "source": [
    "# Step 2 - Subtract\n",
    "\n",
    "When you subtract two numbers, the result is the difference. Use subtraction in the print statement to get the difference between c and d. Remember to use \"shift\" and \"enter\" to run the code."
   ]
  },
  {
   "cell_type": "code",
   "execution_count": 15,
   "id": "8816e6d1",
   "metadata": {},
   "outputs": [
    {
     "name": "stdout",
     "output_type": "stream",
     "text": [
      "4\n",
      " \n",
      "Code test passed\n",
      "Go on to the next step\n"
     ]
    }
   ],
   "source": [
    "c = 7\n",
    "d = 3\n",
    "\n",
    "# Change the next line to print the positive difference between c and d\n",
    "print(c - d)\n",
    "\n",
    "test.step02(In[-1].split('# Only change code above this line')[0])"
   ]
  },
  {
   "cell_type": "markdown",
   "id": "cc16c931",
   "metadata": {},
   "source": [
    "Step 3 - Multiply\n",
    "\n",
    "When you multiply numbers, the result is the product. Use multiplication within the print statement to get the product of e and f:"
   ]
  },
  {
   "cell_type": "code",
   "execution_count": 16,
   "id": "97bc161c",
   "metadata": {},
   "outputs": [
    {
     "name": "stdout",
     "output_type": "stream",
     "text": [
      "8\n",
      " \n",
      "Code test passed\n",
      "Go on to the next step\n"
     ]
    }
   ],
   "source": [
    "e = 2\n",
    "f = 4\n",
    "\n",
    "# Change the next line to print the product of e and f\n",
    "print(e * f)\n",
    "\n",
    "\n",
    "# Only change code above this line\n",
    "test.step03(In[-1].split('# Only change code above this line')[0])"
   ]
  },
  {
   "cell_type": "markdown",
   "id": "f6764143",
   "metadata": {},
   "source": [
    "Step 4 - Divide\n",
    "When you divide two numbers, the result is the quotient. Use division within the print statement to get the quotient of g and h:"
   ]
  },
  {
   "cell_type": "code",
   "execution_count": 17,
   "id": "3fd2ba21",
   "metadata": {},
   "outputs": [
    {
     "name": "stdout",
     "output_type": "stream",
     "text": [
      "2.0\n",
      " \n",
      "Code test passed\n",
      "Go on to the next step\n"
     ]
    }
   ],
   "source": [
    "g = 8\n",
    "h = 4\n",
    "\n",
    "# Change the next line\n",
    "print(g / h)\n",
    "\n",
    "\n",
    "# Only change code above this line\n",
    "test.step04(In[-1].split('# Only change code above this line')[0])"
   ]
  },
  {
   "cell_type": "markdown",
   "id": "cbaff3bd",
   "metadata": {},
   "source": [
    "Step 5 - Cast Input\n",
    "\n",
    "User input comes in as a string, so you need to cast it as an integer or a float before doing any math. The code below asks for input and uses int() to cast it as an integer. Follow the model and cast the second variable as an integer. Then run the code an test it. (Remember to hit \"enter\" after you type each integer in the box.)"
   ]
  },
  {
   "cell_type": "code",
   "execution_count": 18,
   "id": "120b69aa",
   "metadata": {},
   "outputs": [
    {
     "name": "stdout",
     "output_type": "stream",
     "text": [
      "Enter a positive integer: 5\n",
      "Enter another positive integer: 6\n",
      "11\n",
      " \n",
      "Code test passed\n",
      "Go on to the next step\n"
     ]
    }
   ],
   "source": [
    "strA = input('Enter a positive integer: ')\n",
    "intA = int(strA)\n",
    "\n",
    "strB = input('Enter another positive integer: ')\n",
    "\n",
    "# Change the next line but keep the variable name:\n",
    "intB = int(strB)\n",
    "\n",
    "\n",
    "print(intA+intB)\n",
    "\n",
    "\n",
    "# Only change code above this line\n",
    "test.step05(In[-1].split('# Only change code above this line')[0])"
   ]
  },
  {
   "cell_type": "markdown",
   "id": "ab7526a6",
   "metadata": {},
   "source": [
    "Step 6 - Input and cast on the same line\n",
    "\n",
    "You can prompt for input and cast that input on the same line. Notice the nested functions in the first line of code. Follow that model to prompt for input and cast that input as an integer on the same line."
   ]
  },
  {
   "cell_type": "code",
   "execution_count": 19,
   "id": "9ea536f0",
   "metadata": {},
   "outputs": [
    {
     "name": "stdout",
     "output_type": "stream",
     "text": [
      "Enter an integer: 67\n",
      "Enter an integer: 78\n",
      "145\n",
      " \n",
      "Code test passed\n",
      "Go on to the next step\n"
     ]
    }
   ],
   "source": [
    "intA = int(input('Enter an integer: '))\n",
    "\n",
    "# Change the next line but keep the variable name:\n",
    "intB = int(input('Enter an integer: '))\n",
    "\n",
    "\n",
    "print(intA+intB)\n",
    "\n",
    "\n",
    "# Only change code above this line\n",
    "test.step06(In[-1].split('# Only change code above this line')[0])"
   ]
  },
  {
   "cell_type": "markdown",
   "id": "1d845b96",
   "metadata": {},
   "source": [
    "Step 7 - Float numbers\n",
    "\n",
    "A float number allows decimal places. When prompting for a number as input, casting that as a float is usually the best choice. Follow the model below to prompt for input and cast that input as a float on the same line."
   ]
  },
  {
   "cell_type": "code",
   "execution_count": 20,
   "id": "6ce10376",
   "metadata": {},
   "outputs": [
    {
     "name": "stdout",
     "output_type": "stream",
     "text": [
      "Enter a number: 4.5\n",
      "Enter a number: 6.7\n",
      "0.6716417910447761\n",
      " \n",
      "Code test passed\n",
      "Go on to the next step\n"
     ]
    }
   ],
   "source": [
    "a = float(input('Enter a number: '))\n",
    "\n",
    "# Change the next line but keep the variable name:\n",
    "b = float(input('Enter a number: '))\n",
    "\n",
    "\n",
    "\n",
    "print(a/b)\n",
    "\n",
    "\n",
    "# Only change code above this line\n",
    "test.step07(In[-1].split('# Only change code above this line')[0])"
   ]
  },
  {
   "cell_type": "markdown",
   "id": "2c1a90a0",
   "metadata": {},
   "source": [
    "Step 8 - Order of Operations\n",
    "\n",
    "You may have heard of the order of operations and the acronym PEMDAS, which reminds you of the correct order. This means that you do what is in Parentheses first, then simplify Exponents. You then do all of the Multiplication and Division together, as long as you work from left to right and simplify them in order. The same is true of Addition and Subtraction: work from left to right and simplify the one the comes up next. Python knows the order of operations. In the following code, Python will calculate the actual_answer correctly. Notice the use of ** to indicate an exponent. Do the arithmetic in your head (no writing code) and change the your_answer variable, then run the code to see if your_answer matches the actual_answer."
   ]
  },
  {
   "cell_type": "code",
   "execution_count": 21,
   "id": "33189034",
   "metadata": {},
   "outputs": [
    {
     "name": "stdout",
     "output_type": "stream",
     "text": [
      "Actual answer is  8.0\n",
      "Your answer is  8\n",
      " \n",
      "Code test passed\n",
      "Go on to the next step\n"
     ]
    }
   ],
   "source": [
    "actual_answer = (1+4*2-14/2)**3\n",
    "\n",
    "# Put your answer on the following line:\n",
    "your_answer = 8\n",
    "\n",
    "print('Actual answer is ', actual_answer)\n",
    "print('Your answer is ', your_answer)\n",
    "\n",
    "\n",
    "# Only change code above this line\n",
    "test.step08(your_answer)"
   ]
  },
  {
   "cell_type": "markdown",
   "id": "b9d1a709",
   "metadata": {},
   "source": [
    "Step 9 - Remainder and Modulus\n",
    "\n",
    "A remainder is what is left over when you try to divide two numbers and it doesn’t divide evenly. The remainder of 10 / 4 is 2 because 4 goes into 10 two whole times, with 2 left over. The modulus (%) operator will output the remainder, so 10 % 4 will return 2. Use the modulus operator to find the remainder of a divided by b:"
   ]
  },
  {
   "cell_type": "code",
   "execution_count": 22,
   "id": "5d92dc18",
   "metadata": {},
   "outputs": [
    {
     "name": "stdout",
     "output_type": "stream",
     "text": [
      "2\n",
      " \n",
      "Code test passed\n",
      "Go on to the next step\n"
     ]
    }
   ],
   "source": [
    "a = 14\n",
    "b = 6\n",
    "\n",
    "# Change this line\n",
    "print(a % b)\n",
    "\n",
    "\n",
    "# Only change code above this line\n",
    "test.step09(In[-1].split('# Only change code above this line')[0])"
   ]
  },
  {
   "cell_type": "markdown",
   "id": "a840a278",
   "metadata": {},
   "source": [
    "Step 10 - Modulus and Factors\n",
    "\n",
    "Use an if statement with the modulus operator to find out if one number is a factor of another. For example, to see if 5 is a factor of 20, you can test if 20 % 5 == 0. If there's no remainder, the second number is a factor of the first. Remember that Python comparisons use == to test values. Remember that the if statement ends in a colon (:) and the resulting block is indented four spaces. Finish the code below to print \"true\" if test_factor is a factor of number and print \"false\" if it is not."
   ]
  },
  {
   "cell_type": "code",
   "execution_count": 24,
   "id": "4de3a2ec",
   "metadata": {},
   "outputs": [
    {
     "name": "stdout",
     "output_type": "stream",
     "text": [
      "Enter an integer: 56\n",
      "Enter an integer to see if it’s a factor: 78\n",
      "false\n",
      " \n",
      "Code test passed\n",
      "Go on to the next step\n"
     ]
    }
   ],
   "source": [
    "number = int(input('Enter an integer: '))\n",
    "test_factor = int(input('Enter an integer to see if it’s a factor: '))\n",
    "\n",
    "# Change the next line to test the factor:\n",
    "if number % test_factor == 0:\n",
    "    print('true')\n",
    "else:\n",
    "    print('false')\n",
    "\n",
    "\n",
    "# Only change code above this line\n",
    "test.step10(In[-1].split('# Only change code above this line')[0])"
   ]
  },
  {
   "cell_type": "markdown",
   "id": "86ef96c9",
   "metadata": {},
   "source": [
    "Step 11 - Finding Factors\n",
    "\n",
    "Now you will find all of the factors of a number. This code has a loop with a variable, test_factor, that iterates through a defined range. Remember that the first line defining the loop ends in a colon (:) and each line in the loop requires a four-space indent. Change the if statement to find all the factors of number."
   ]
  },
  {
   "cell_type": "code",
   "execution_count": 26,
   "id": "2cdd244c",
   "metadata": {},
   "outputs": [
    {
     "name": "stdout",
     "output_type": "stream",
     "text": [
      "Enter an integer: 8\n",
      "1\n",
      "2\n",
      "4\n",
      "8\n",
      " \n",
      "Code test passed\n",
      "Go on to the next step\n"
     ]
    }
   ],
   "source": [
    "number = int(input('Enter an integer: '))\n",
    "\n",
    "# Only change the if statement:\n",
    "for test_factor in range(1, number+1):\n",
    "    if number % test_factor == 0:\n",
    "        print(test_factor)\n",
    "\n",
    "\n",
    "# Only change code above this line\n",
    "test.step11(In[-1].split('# Only change code above this line')[0])"
   ]
  },
  {
   "cell_type": "markdown",
   "id": "f8c800e5",
   "metadata": {},
   "source": [
    "Step 12 - Prime Numbers\n",
    "\n",
    "A prime number is a number whose only factors are 1 and itself. The number 5 is prime because its only factors are 1 and 5, but the 6 is not prime because it has 1, 2, 3, and 6 as factors. Any number that is not a prime is a composite. For each iteration in the loop, test_number will be a possible factor. Change the if statement so that the code prints \"composite\" if number is not prime."
   ]
  },
  {
   "cell_type": "code",
   "execution_count": 28,
   "id": "38e15289",
   "metadata": {},
   "outputs": [
    {
     "name": "stdout",
     "output_type": "stream",
     "text": [
      "Enter a positive integer: 7\n",
      "prime\n",
      " \n",
      "Code test passed\n",
      "Go on to the next step\n"
     ]
    }
   ],
   "source": [
    "number = int(input(\"Enter a positive integer: \"))\n",
    "\n",
    "prime_or_comp = \"prime\"\n",
    "\n",
    "for test_number in range(2,number):\n",
    "    # Change the if statement to test one factor here:\n",
    "    if number % test_number == 0:\n",
    "        prime_or_comp = \"composite\"\n",
    "\n",
    "print(prime_or_comp)\n",
    "\n",
    "\n",
    "# Only change code above this line\n",
    "test.step12(In[-1].split('# Only change code above this line')[0])"
   ]
  },
  {
   "cell_type": "markdown",
   "id": "01250679",
   "metadata": {},
   "source": [
    "Step 13 - Reciprocals\n",
    "\n",
    "A reciprocal is a number \"flipped.\" The reciprocal of 23 is 32 and the reciprocal of 5 is 15 because whole numbers have denominators of 1. You can multiply a number by its reciprocal to get 1, so 5 * 15 = 1 and 23 * 32 = 1. To get the reciprocal of a number, take 1 divided by that number. Trying to get the reciprocal of zero will lead to a \"divide by zero\" error. Use a print statement to output the reciprocal of n as a decimal."
   ]
  },
  {
   "cell_type": "code",
   "execution_count": 29,
   "id": "952308f8",
   "metadata": {},
   "outputs": [
    {
     "name": "stdout",
     "output_type": "stream",
     "text": [
      "Enter a number: 8\n",
      "0.125\n",
      " \n",
      "Code test passed\n",
      "Go on to the next step\n"
     ]
    }
   ],
   "source": [
    "n = float(input('Enter a number: '))\n",
    "\n",
    "# Write your code here\n",
    "print(1/n)\n",
    "\n",
    "\n",
    "# Only change code above this line\n",
    "test.step13(In[-1].split('# Only change code above this line')[0])"
   ]
  },
  {
   "cell_type": "markdown",
   "id": "80980dfb",
   "metadata": {},
   "source": [
    "Step 14 - Splitting input\n",
    "\n",
    "The code below asks for two integers, separated by a comma, then splits the input at the comma. Notice the input remains a string, then the split() function creates an array with two elements. Finish the following code to cast the two variables a and b as float numbers, then divide the two numbers and print the result."
   ]
  },
  {
   "cell_type": "code",
   "execution_count": 30,
   "id": "a30741f5",
   "metadata": {},
   "outputs": [
    {
     "name": "stdout",
     "output_type": "stream",
     "text": [
      "Enter two numbers, separated by a comma: 8,9\n",
      "0.8888888888888888\n",
      " \n",
      "Code test passed\n",
      "Go on to the next step\n"
     ]
    }
   ],
   "source": [
    "nums = input('Enter two numbers, separated by a comma: ')\n",
    "sp = nums.split(\",\")\n",
    "\n",
    "# Use the next line as a model:\n",
    "a = float(sp[0])\n",
    "\n",
    "# Change the next line to cast the number as a float:\n",
    "b = float(sp[1])\n",
    "\n",
    "# Change the print statement:\n",
    "print(float(a/b))\n",
    "\n",
    "# Only change code above this line\n",
    "test.step14(In[-1].split('# Only change code above this line')[0])"
   ]
  },
  {
   "cell_type": "markdown",
   "id": "fac3ebaf",
   "metadata": {},
   "source": [
    "Step 15 - Square Numbers\n",
    "\n",
    "One factor multiplied by itself will produce a square number, so a number raised to an exponent of 2 is that number squared (like calculating the area of a square). Python uses ** to indicate exponents. Complete the code to print the square of the input."
   ]
  },
  {
   "cell_type": "code",
   "execution_count": 31,
   "id": "9f67c6eb",
   "metadata": {},
   "outputs": [
    {
     "name": "stdout",
     "output_type": "stream",
     "text": [
      "Enter a number to square: 6\n",
      "36.0\n",
      " \n",
      "Code test passed\n",
      "Go on to the next step\n"
     ]
    }
   ],
   "source": [
    " n = float(input('Enter a number to square: '))\n",
    "\n",
    "# Change this line of code:\n",
    "print(n**2)\n",
    "\n",
    "# Only change code above this line\n",
    "test.step15(In[-1].split('# Only change code above this line')[0])"
   ]
  },
  {
   "cell_type": "markdown",
   "id": "1c757b28",
   "metadata": {},
   "source": [
    "Step 16 - Square Root Function\n",
    "\n",
    "You can find the square root of a number with the sqrt() function. To use this function, you need to import the math library. This library enables you to use many functions, as you will see in later steps. To get the square root of x, you would write math.sqrt(x). Complete the code to print the square root of a number."
   ]
  },
  {
   "cell_type": "code",
   "execution_count": 33,
   "id": "5c6a0b68",
   "metadata": {},
   "outputs": [
    {
     "name": "stdout",
     "output_type": "stream",
     "text": [
      "Enter a number to find the square root: 9\n",
      "3.0\n",
      " \n",
      "Code test passed\n",
      "Go on to the next step\n"
     ]
    }
   ],
   "source": [
    "n = float(input('Enter a number to find the square root: '))\n",
    "\n",
    "# Change the next line of code:\n",
    "print(math.sqrt(n))\n",
    "\n",
    "\n",
    "# Only change code above this line\n",
    "test.step16(In[-1].split('# Only change code above this line')[0])"
   ]
  },
  {
   "cell_type": "markdown",
   "id": "10673697",
   "metadata": {},
   "source": [
    "Step 17 - Floor Function\n",
    "\n",
    "Thefloor() function drops any decimals and sometimes is called the integer part of a number. Complete the code to print the floor of a number. Notice you import math and use math.floor(n)"
   ]
  },
  {
   "cell_type": "code",
   "execution_count": 34,
   "id": "5883dddf",
   "metadata": {},
   "outputs": [
    {
     "name": "stdout",
     "output_type": "stream",
     "text": [
      "Enter a number with decimal places: 78\n",
      "78\n",
      " \n",
      "Code test passed\n",
      "Go on to the next step\n"
     ]
    }
   ],
   "source": [
    "n = float(input('Enter a number with decimal places: '))\n",
    "\n",
    "# Change the next line of code:\n",
    "print(math.floor(n))\n",
    "\n",
    "\n",
    "# Only change code above this line\n",
    "import math_code_test_a as test\n",
    "test.step17(In[-1].split('# Only change code above this line')[0])"
   ]
  },
  {
   "cell_type": "markdown",
   "id": "3bfb9d35",
   "metadata": {},
   "source": [
    "Step 18 - Finding Square Factors\n",
    "\n",
    "This step will combine a few things you have already done. Remember that a square number is an integer that is the result of multiplying another integer by itself. Just as you created a loop to find factors of an integer, here you will find the greatest factor that is a perfect square. For example, 2 is a factor of 16, but 2 is not a square number, while 4 is a factor and it is a square number, but it is not the greatest square factor. The greatest square factor of 16 is 16. The greatest square factor of 32 is 16. Complete if statement in the loop to find the greatest square factor of a number."
   ]
  },
  {
   "cell_type": "code",
   "execution_count": 6,
   "id": "7c7c89a7",
   "metadata": {},
   "outputs": [
    {
     "name": "stdout",
     "output_type": "stream",
     "text": [
      "Enter an integer to find the greatest square factor: 78\n",
      "1\n",
      " \n",
      "Code test passed\n",
      "Go on to the next step\n"
     ]
    }
   ],
   "source": [
    "n = int(input('Enter an integer to find the greatest square factor: '))\n",
    "\n",
    "max_factor = 1\n",
    "upper_limit = math.floor(math.sqrt(n)) + 1\n",
    "\n",
    "# Change one line in this loop:\n",
    "for maybe_factor in range(1,upper_limit):\n",
    "    if n % (maybe_factor**2) == 0:\n",
    "        max_factor = maybe_factor\n",
    "\n",
    "# Keep this print statement:\n",
    "print(max_factor**2)\n",
    "\n",
    "\n",
    "# Only change code above this line\n",
    "import math_code_test_a as test\n",
    "test.step18(In[-1].split('# Only change code above this line')[0])"
   ]
  },
  {
   "cell_type": "markdown",
   "id": "89071090",
   "metadata": {},
   "source": [
    "Step 19 - Dividing out Factors\n",
    "\n",
    "Building upon your code from the previous step, this code will divide out the greatest square factor of a number. You don't need to change anything; just run the code below a few times, inputting different numbers each time."
   ]
  },
  {
   "cell_type": "code",
   "execution_count": 7,
   "id": "13047ee9",
   "metadata": {},
   "outputs": [
    {
     "name": "stdout",
     "output_type": "stream",
     "text": [
      "Enter an integer to factor: 56\n",
      " 56  =  4  *  14.0\n",
      "\n",
      " Test passed. You can go on to the next step.\n"
     ]
    }
   ],
   "source": [
    "n = int(input('Enter an integer to factor: '))\n",
    "upper_limit = math.floor(math.sqrt(n)) + 1\n",
    "square_root = 1\n",
    "max_factor = 1\n",
    "other_factor = 1\n",
    "\n",
    "# Notice what the loop is doing here\n",
    "for maybe_factor in range(1, upper_limit):\n",
    "    # Check for square factors\n",
    "    if n % (maybe_factor**2) == 0:\n",
    "        # Find the greatest square factor\n",
    "        max_factor = maybe_factor**2\n",
    "\n",
    "# Divide out the greatest square factor\n",
    "other_factor = n/max_factor\n",
    "\n",
    "# Display the results\n",
    "print(\"\", n, \" = \", max_factor, \" * \", other_factor)\n",
    "\n",
    "\n",
    "# Only change code above this line\n",
    "test.step19()"
   ]
  },
  {
   "cell_type": "markdown",
   "id": "8831ad2b",
   "metadata": {},
   "source": [
    "Step 20 - Factoring Square Roots\n",
    "\n",
    "The last four steps prepared you for this. To factor a square root, you want to divide out any perfect square factors. For example:\n",
    "12‾‾‾√ = 4∗3‾‾‾‾‾√ = 23‾√\n",
    "Because 4 is a square number, the square root of 4 is now outside the radical. You will import sympy and symbols to use the radical (𝑥‾‾√) in the output. Use the code from the previous step (without changing much). Your goal is to ask for a number and output the factored square root. The radical formatting (using sympy and symbols) is already done for you."
   ]
  },
  {
   "cell_type": "code",
   "execution_count": 10,
   "id": "63e7c0b1",
   "metadata": {},
   "outputs": [
    {
     "name": "stdout",
     "output_type": "stream",
     "text": [
      "Without the radical, enter a square root to factor: 9\n",
      "\n",
      " Test passed. This is this your factored square root:\n",
      "\n"
     ]
    },
    {
     "data": {
      "text/latex": [
       "$\\displaystyle 3$"
      ],
      "text/plain": [
       "3"
      ]
     },
     "execution_count": 10,
     "metadata": {},
     "output_type": "execute_result"
    }
   ],
   "source": [
    "n = int(input('Without the radical, enter a square root to factor: '))\n",
    "\n",
    "# Use these variables\n",
    "upper_limit = math.floor(math.sqrt(n)) + 1\n",
    "max_factor = 1\n",
    "other_factor = 1\n",
    "square_root = 1\n",
    "\n",
    "# Notice what the loop is doing here\n",
    "for maybe_factor in range(1, upper_limit):\n",
    "    if n % (maybe_factor**2) == 0:\n",
    "        max_factor = maybe_factor**2\n",
    "\n",
    "# Divide out the greatest square factor\n",
    "other_factor = n/max_factor\n",
    "\n",
    "# Output - keep this:\n",
    "square_root = int(math.sqrt(max_factor))\n",
    "other_factor = int(other_factor)\n",
    "output = square_root*sympy.sqrt(other_factor)\n",
    "\n",
    "\n",
    "# Only change code above this line\n",
    "test.step20()\n",
    "output"
   ]
  },
  {
   "cell_type": "markdown",
   "id": "1c87244f",
   "metadata": {},
   "source": [
    "Step 21 - Rounding\n",
    "\n",
    "If you only want a certain number of decimal places, use the round() function. This takes two arguments: the number to round and the number of decimal places, so round(2.468, 2) will return 2.47. To round a large number instead of a decimal number, make the second argument negative, so round(2345, -3) will return 2000. Finish the code below so that it prints the first number rounded to the nearest million (six zeros) and the second number rounded to 3 decimal places."
   ]
  },
  {
   "cell_type": "code",
   "execution_count": 11,
   "id": "ba84e9ac",
   "metadata": {},
   "outputs": [
    {
     "name": "stdout",
     "output_type": "stream",
     "text": [
      "15000000\n",
      "0.007\n",
      " \n",
      "Code test passed\n",
      "Go on to the next step\n"
     ]
    }
   ],
   "source": [
    "a = 14588132\n",
    "b = 0.006538298336\n",
    "\n",
    "# Write your code here\n",
    "print(round(a, -6))\n",
    "print(round(b, 3))\n",
    "\n",
    "\n",
    "# Only change code above this line\n",
    "import math_code_test_a as test\n",
    "test.step21(In[-1].split('# Only change code above this line')[0])"
   ]
  },
  {
   "cell_type": "markdown",
   "id": "eacc1220",
   "metadata": {},
   "source": [
    "Step 22 - Fractions, Decimals, Percents\n",
    "\n",
    "To convert a decimal number to a fraction, let  𝑥  = the number of decimal places. The basic fraction is the number (without the decimal point) over 10 𝑥 . Example: 0.2 =  210  and 0.34 =  34100  and 0.567 =  5671000 . In some cases, you may be able to reduce that fraction. Because \"percent\" means \"out of 100\" the percent refers to the first two decimal places. Complete the code to ask for a decimal input, then print the fraction and the percent. Hint: The exponent variable gives you the number of decimal places."
   ]
  },
  {
   "cell_type": "code",
   "execution_count": 14,
   "id": "feb3156c",
   "metadata": {},
   "outputs": [
    {
     "name": "stdout",
     "output_type": "stream",
     "text": [
      "Enter a decimal number to convert: 8\n",
      "The decimal is  8.0\n",
      "The fraction is  1 / 8\n",
      "The percent is  800.0  %\n",
      " \n",
      "You should use numerator = int(n*10**exponent) in your code\n",
      "You should use denominator = 10**exponent in your code\n"
     ]
    }
   ],
   "source": [
    "import math\n",
    "\n",
    "digits = input(\"Enter a decimal number to convert: \")\n",
    "exponent = int(len(digits))-1\n",
    "n = float(digits)\n",
    "\n",
    "# Change the values of these three variables\n",
    "numerator = int(n*10**exponent)\n",
    "denominator = 10**exponent\n",
    "percent = n*100 \n",
    "\n",
    "# Output - keep this\n",
    "print(\"The decimal is \", n)\n",
    "print(\"The fraction is \", numerator, \"/\", denominator)\n",
    "print(\"The percent is \", percent, \" %\")\n",
    "\n",
    "\n",
    "# Only change code above this line\n",
    "import math_code_test_a as test\n",
    "test.step22(n,numerator,denominator,percent,exponent)"
   ]
  },
  {
   "cell_type": "markdown",
   "id": "612b341e",
   "metadata": {},
   "source": [
    "Step 23 - Defining a Function\n",
    "\n",
    "To execute a block of code with one command, define a function with the def command and the name of the function. Notice everything in the function is indented 4 spaces. Run the following code to see an example. Then change the function name to fun() and also change the name where you call the function. Run the code again."
   ]
  },
  {
   "cell_type": "code",
   "execution_count": 16,
   "id": "9f9957b5",
   "metadata": {},
   "outputs": [
    {
     "name": "stdout",
     "output_type": "stream",
     "text": [
      "This is outside the function\n",
      "This is in the function\n",
      "Back outside the function\n",
      " \n",
      "Code test passed\n",
      "Go on to the next step\n"
     ]
    }
   ],
   "source": [
    "# Define a function\n",
    "def fun():\n",
    "    print(\"This is in the function\")\n",
    "\n",
    "# Other code not in the function\n",
    "print(\"This is outside the function\")\n",
    "\n",
    "# Call the function\n",
    "fun()\n",
    "\n",
    "print(\"Back outside the function\")\n",
    "\n",
    "# Only change code above this line\n",
    "import math_code_test_a as test\n",
    "test.step23(In[-1].split('# Only change code above this line')[0])"
   ]
  },
  {
   "cell_type": "markdown",
   "id": "fa74c22e",
   "metadata": {},
   "source": [
    "Step 24 - Function with Input\n",
    "\n",
    "A function can take input (called an \"argument\") and do something with that input. Use def to define the function, and include a variable in the parentheses to represent the argument. Indent everything that is a part of the function. When calling the function, pass the argument to it in the parentheses. Run the following code to see this example. Then change the input() variable name to nombre and also change that variable name in the argument when you call the function. Run the code again."
   ]
  },
  {
   "cell_type": "code",
   "execution_count": 18,
   "id": "69ac0a7f",
   "metadata": {},
   "outputs": [
    {
     "name": "stdout",
     "output_type": "stream",
     "text": [
      "What is your name? \n",
      "alison\n",
      "Hello  alison\n",
      " \n",
      "Code test passed\n",
      "You can go on to the next step\n"
     ]
    }
   ],
   "source": [
    "# Define a function\n",
    "def greeting(name):\n",
    "    print(\"Hello \", name)\n",
    "\n",
    "nombre = input(\"What is your name? \\n\")\n",
    "\n",
    "# Call the function\n",
    "greeting(nombre)\n",
    "\n",
    "# Only change code above this line\n",
    "import math_code_test_a as test\n",
    "test.step24(In[-1].split('# Only change code above this line')[0])"
   ]
  },
  {
   "cell_type": "markdown",
   "id": "c122bdab",
   "metadata": {},
   "source": [
    "Step 25 - Function with Two Inputs\n",
    "\n",
    "To pass more than one argument to a function, separate the arguments with commas. Run the code to see the example, then add a third argument to the function and run it again. The third variable is already in the code. Change three lines of code to use that variable: (1) the argument when you call the function, (2) the argument when you define the function, (3) the sum line within in the function definition.\n",
    " \n",
    "[ ]"
   ]
  },
  {
   "cell_type": "code",
   "execution_count": null,
   "id": "cefcbce1",
   "metadata": {},
   "outputs": [],
   "source": [
    "# Define function\n",
    "def add(a,b,c):\n",
    "  # Use c for the third variable\n",
    "  sum = a+b+c\n",
    "  print(\"The sum is \", sum)\n",
    "\n",
    "first = float(input(\"Enter a number: \\n\"))\n",
    "second= float(input(\"Enter another number: \\n\"))\n",
    "third = float(input(\"Enter third number: \\n\"))\n",
    "\n",
    "# Call the function\n",
    "add(first,second, third)\n",
    "\n",
    "# Only change code above this line\n",
    "import math_code_test_a as test\n",
    "test.step25(In[-1].split('# Only change code above this line')[0])"
   ]
  },
  {
   "cell_type": "markdown",
   "id": "c47ae23a",
   "metadata": {},
   "source": [
    "Step 27 - Solving for x\n",
    "\n",
    "In Algebra, X often refers to the unknown number in an equation. To find the value of x we use algebra rules to get to x = [some number]. SymPy is a Python library to work with symbolic math. The following code works to solve an equation set equal to zero. Run the code and remember to use Python syntax to enter an equation (with \"x\" as the variable) and see the solution."
   ]
  },
  {
   "cell_type": "code",
   "execution_count": 25,
   "id": "a5568625",
   "metadata": {},
   "outputs": [
    {
     "name": "stdout",
     "output_type": "stream",
     "text": [
      "Enter an equation to solve for x: 0 = x + 9\n",
      "1\n",
      "x =  -9\n",
      "If you didn't get a syntax error, you are ready for the project\n"
     ]
    }
   ],
   "source": [
    "x = symbols('x')\n",
    "\n",
    "eq = input('Enter an equation to solve for x: 0 = ')\n",
    "print(len(solve(eq,x)))\n",
    "print(\"x = \", solve(eq,x)[0])\n",
    "\n",
    "\n",
    "# Only change code above this line\n",
    "test.step27(In[-1].split('# Only change code above this line')[0])"
   ]
  },
  {
   "cell_type": "markdown",
   "id": "f565a861",
   "metadata": {},
   "source": [
    "Step 28 - Make your own Functions\n",
    "\n",
    "Building upon what you did in previous steps, define a different function for each of the following:\n",
    "Add, subtract, multiply, divide\n",
    "Detect prime numbers\n",
    "Generate prime factors of a number\n",
    "Simplify square roots\n",
    "Solve for a variable\n",
    "Each function should prompt the user with a question, take input, and output the answer."
   ]
  },
  {
   "cell_type": "code",
   "execution_count": null,
   "id": "bba862df",
   "metadata": {},
   "outputs": [],
   "source": [
    "# Write your code here\n",
    "\n",
    "\n",
    "# This step does not have test"
   ]
  }
 ],
 "metadata": {
  "kernelspec": {
   "display_name": "Python 3 (ipykernel)",
   "language": "python",
   "name": "python3"
  },
  "language_info": {
   "codemirror_mode": {
    "name": "ipython",
    "version": 3
   },
   "file_extension": ".py",
   "mimetype": "text/x-python",
   "name": "python",
   "nbconvert_exporter": "python",
   "pygments_lexer": "ipython3",
   "version": "3.9.18"
  }
 },
 "nbformat": 4,
 "nbformat_minor": 5
}
