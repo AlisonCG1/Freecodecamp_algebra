{
 "cells": [
  {
   "cell_type": "markdown",
   "id": "d02e637c-a21a-4aa1-92c4-b0186b7b9724",
   "metadata": {},
   "source": [
    "For this challenge, you need to create a financial calculator using Python that takes input and does the following:\n",
    "\n",
    "- Calculate annuity with monthly or continuous growth\n",
    "- Calculate the monthly mortgage payment\n",
    "- Estimate retirement investment balance\n",
    "- Determine how long until an amount doubles, given the rate\n",
    "- Solve logarithmic equations\n",
    "- Convert to (and from) scientific notation"
   ]
  },
  {
   "cell_type": "code",
   "execution_count": 1,
   "id": "7752f3a7-1976-44f8-b4aa-5aa23bcae207",
   "metadata": {},
   "outputs": [
    {
     "name": "stdout",
     "output_type": "stream",
     "text": [
      "Requirement already satisfied: requests in /Users/alisoncordoba/opt/anaconda3/lib/python3.9/site-packages (2.32.3)\n",
      "Requirement already satisfied: charset-normalizer<4,>=2 in /Users/alisoncordoba/opt/anaconda3/lib/python3.9/site-packages (from requests) (3.3.2)\n",
      "Requirement already satisfied: idna<4,>=2.5 in /Users/alisoncordoba/opt/anaconda3/lib/python3.9/site-packages (from requests) (3.7)\n",
      "Requirement already satisfied: urllib3<3,>=1.21.1 in /Users/alisoncordoba/opt/anaconda3/lib/python3.9/site-packages (from requests) (2.2.2)\n",
      "Requirement already satisfied: certifi>=2017.4.17 in /Users/alisoncordoba/opt/anaconda3/lib/python3.9/site-packages (from requests) (2024.7.4)\n",
      "Code test passed\n",
      "Go on to the next step\n"
     ]
    }
   ],
   "source": [
    "# You may need to run this cell at the beginning of each new session\n",
    "\n",
    "!pip install requests\n",
    "\n",
    "# This will just take a few seconds\n",
    "\n",
    "import requests\n",
    "\n",
    "# Get the library from GitHub\n",
    "url = 'https://raw.githubusercontent.com/edatfreecodecamp/python-math/main/math-code-test-c.py'\n",
    "r = requests.get(url)\n",
    "\n",
    "# Save the library in a local working directory\n",
    "with open('math_code_test_c.py', 'w') as f:\n",
    "    f.write(r.text)\n",
    "\n",
    "# Now you can import the library\n",
    "import math_code_test_c as test\n",
    "\n",
    "# This will tell you if the code works\n",
    "test.step00()"
   ]
  },
  {
   "cell_type": "code",
   "execution_count": 2,
   "id": "85f59aab-ea2d-4836-8fd4-cdd542a45e65",
   "metadata": {},
   "outputs": [
    {
     "name": "stdout",
     "output_type": "stream",
     "text": [
      "Intel MKL WARNING: Support of Intel(R) Streaming SIMD Extensions 4.2 (Intel(R) SSE4.2) enabled only processors has been deprecated. Intel oneAPI Math Kernel Library 2025.0 will require Intel(R) Advanced Vector Extensions (Intel(R) AVX) instructions.\n",
      "Intel MKL WARNING: Support of Intel(R) Streaming SIMD Extensions 4.2 (Intel(R) SSE4.2) enabled only processors has been deprecated. Intel oneAPI Math Kernel Library 2025.0 will require Intel(R) Advanced Vector Extensions (Intel(R) AVX) instructions.\n"
     ]
    }
   ],
   "source": [
    "import matplotlib.pyplot as plt\n",
    "import numpy as np\n",
    "from sympy import symbols, Eq\n",
    "from IPython.display import display, Math\n",
    "from sympy import *\n",
    "%matplotlib inline\n",
    "from ipywidgets import interactive\n",
    "import math"
   ]
  },
  {
   "cell_type": "markdown",
   "id": "7834ea31-759b-4a2c-9010-c89869180488",
   "metadata": {},
   "source": [
    "# Step 1 - Graphing Inequalities\n",
    "\n",
    "Learn Inequalities by Building Shaded Graphs. Notice how you set up the plot, like you learned in the last certification. Run the following code and you will see that the graph of y > 2x is not quite right. Because y is greater, the shading should be above the line. The second two arguments in the fill_between() function give a range of y values to shade. Change just that part of the code to make the graph correct. (Hint: Think about the top of the graph.)"
   ]
  },
  {
   "cell_type": "code",
   "execution_count": null,
   "id": "02836f2a-30dd-4095-a027-d8c854c54b38",
   "metadata": {},
   "outputs": [],
   "source": [
    "xmin = -10\n",
    "xmax = 10\n",
    "ymin = - 10\n",
    "ymax = 10\n",
    "points = 2*(xmax-xmin)\n",
    "x = np.linspace(xmin,xmax,points)\n",
    "\n",
    "fig, ax = plt.subplots()\n",
    "plt.axis([xmin,xmax,ymin,ymax]) # window size\n",
    "plt.plot([xmin,xmax],[0,0],'b') # blue x axis\n",
    "plt.plot([0,0],[ymin,ymax], 'b') # blue y axis\n",
    "\n",
    "plt.title(\"y > 2x\")\n",
    "\n",
    "y1 = 2*x\n",
    "\n",
    "plt.plot(x, y1)\n",
    "\n",
    "# Only change code below this line\n",
    "plt.fill_between(x, y1, ymax)\n",
    "\n",
    "plt.show()\n",
    "\n",
    "\n",
    "# Only change code above this line\n",
    "import math_code_test_c as test\n",
    "test.step01(In[-1].split('# Only change code above this line')[0])"
   ]
  },
  {
   "cell_type": "markdown",
   "id": "7c55438a-7120-4737-84c6-92606945e0b8",
   "metadata": {},
   "source": [
    "# Step 2 - Graphing inequalities - Part 2\n",
    "\n",
    "The default graph will give you a solid line, but you can change the type of line and the color. As 'b' is for a solid blue line, 'b--' will be a dashed blue line and 'r--' will display a dashed red line. Change the code to graph a dashed red line."
   ]
  },
  {
   "cell_type": "code",
   "execution_count": null,
   "id": "94fc2839-b6fe-4c95-bc3a-c9aafa91e571",
   "metadata": {},
   "outputs": [],
   "source": [
    "xmin = -10\n",
    "xmax = 10\n",
    "ymin = - 10\n",
    "ymax = 10\n",
    "points = 2*(xmax-xmin)\n",
    "x = np.linspace(xmin,xmax,points)\n",
    "\n",
    "fig, ax = plt.subplots()\n",
    "plt.axis([xmin,xmax,ymin,ymax]) # window size\n",
    "plt.plot([xmin,xmax],[0,0],'r--') # blue x axis\n",
    "plt.plot([0,0],[ymin,ymax], 'r--') # blue y axis\n",
    "\n",
    "y1 = 2*x\n",
    "\n",
    "# Only change the next line:\n",
    "plt.plot(x, y1, 'r--')\n",
    "\n",
    "plt.fill_between(x, y1, ymin)\n",
    "plt.show()\n",
    "\n",
    "\n",
    "\n",
    "# Only change code above this line\n",
    "import math_code_test_c as test\n",
    "test.step02(In[-1].split('# Only change code above this line')[0])"
   ]
  },
  {
   "cell_type": "markdown",
   "id": "ea66415e-a55d-4bac-b341-21db639d8caa",
   "metadata": {},
   "source": [
    "# Step 3 - Making Art with Graphs\n",
    "\n",
    "Now plot four inequalities on the graph, in a pattern. Notice how you only need to define the x values once. In the fill_between() function notice a fourth argument, facecolor=, to indicate a different color for the shaded area. The color name in single quotes, like 'green' or 'yellow' or any common color name. Run the code to see the pattern, then reverse the order of the colors and run it again."
   ]
  },
  {
   "cell_type": "code",
   "execution_count": null,
   "id": "b1f76a76-cecb-4608-843c-29a54cdc68f6",
   "metadata": {},
   "outputs": [],
   "source": [
    "xmin = -10\n",
    "xmax = 10\n",
    "ymin = - 10\n",
    "ymax = 10\n",
    "points = 2*(xmax-xmin)\n",
    "x = np.linspace(xmin,xmax,points)\n",
    "\n",
    "fig, ax = plt.subplots()\n",
    "plt.axis([xmin,xmax,ymin,ymax]) # window size\n",
    "plt.plot([xmin,xmax],[0,0],'b') # blue x axis\n",
    "plt.plot([0,0],[ymin,ymax], 'b') # blue y axis\n",
    "\n",
    "# Only change the lines indicated below\n",
    "\n",
    "# line 1\n",
    "y1 = x+6\n",
    "plt.plot(x, y1)\n",
    "plt.fill_between(x, y1, 10, facecolor='blue') # change this line\n",
    "\n",
    "# line 2\n",
    "y2 = x+3\n",
    "plt.plot(x, y2)\n",
    "plt.fill_between(x, y2, y1, facecolor='green') # change this line\n",
    "\n",
    "# line 3\n",
    "y3 = x-1\n",
    "plt.plot(x, y3)\n",
    "plt.fill_between(x, y3, y2, facecolor= 'yellow') # change this line\n",
    "\n",
    "# line 4\n",
    "y4 = x-4\n",
    "plt.plot(x, y4)\n",
    "plt.fill_between(x, y4, y3, facecolor= 'red') # change this line\n",
    "\n",
    "plt.show()\n",
    "\n",
    "\n",
    "\n",
    "# Only change code above this line\n",
    "import math_code_test_c as test\n",
    "test.step03(In[-1].split('# Only change code above this line')[0])"
   ]
  },
  {
   "cell_type": "markdown",
   "id": "b7acb71e-d65f-4aec-88a8-daa9afbd3c91",
   "metadata": {},
   "source": [
    "# Step 4 - Monomials\n",
    "\n",
    "A monomial means \"one thing\" or one term. In a math equation, each term has a sign, a coefficient, and a variable to an exponent. Here are some examples: In the term -3x2 you can see that the sign is negative, the coefficient is 3, the variable is x, the exponent is 2. The term x also has all of these parts: the sign is positive, the coefficient is 1, the variable is x, and the exponent is 1. In the term 5, the sign is positive, the coefficient is 5, the variable is still x, and the exponent is zero (notice that you don't need to write some of these parts, like x0). You can use sympy to display monomials nicely. Just run the code to see how this looks."
   ]
  },
  {
   "cell_type": "code",
   "execution_count": null,
   "id": "846cba52-741e-4a23-9353-42efabb9aef1",
   "metadata": {},
   "outputs": [],
   "source": [
    "x = symbols('x')\n",
    "eq1 = Eq(-2*x**3 , -16)\n",
    "display(eq1)\n",
    "\n",
    "\n",
    "# Just run this code\n",
    "import math_code_test_c as test\n",
    "test.step00()"
   ]
  },
  {
   "cell_type": "markdown",
   "id": "34579175-397a-4115-bc00-838fb20ca644",
   "metadata": {},
   "source": [
    "# Step 5 - Polynomials\n",
    "\n",
    "A \"monomial\" is one thing. A \"binomial\" is two things. A \"trinomial\" is three things. A \"polynomial\" is many things. In standard form, x is the variable; you put your terms in order from highest exponent to lowest; refer to the coefficients with letters in alphabetical order; and set all of this equal to y (because it is a function that you can graph). Example: y = ax4 + bx3 + cx2 + dx + e\n",
    "Write code to prompt for integer input and display a polynomial. Remember to use the ** for exponents. Parts of this are already done for you."
   ]
  },
  {
   "cell_type": "code",
   "execution_count": null,
   "id": "84525322-ec3a-4866-bca0-1c95f062a5fe",
   "metadata": {},
   "outputs": [],
   "source": [
    "x,y = symbols('x y')\n",
    "\n",
    "a = int(input(\"Enter coefficient A: \"))\n",
    "b = int(input(\"Enter coefficient B: \"))\n",
    "# continue this to prompt for variables c and d\n",
    "c = int(input(\"Enter coefficient C: \"))\n",
    "d = int(input(\"Enter coefficient D: \"))\n",
    "\n",
    "# change the next line to display the full polynomial\n",
    "y = a*x**3 + b*x**2 + c*x + d\n",
    "\n",
    "print(\"Here is your equation:\")\n",
    "display(Math(\"y = \" + latex(y)))\n",
    "\n",
    "\n",
    "# Only change code above this line\n",
    "import math_code_test_c as test\n",
    "test.step05(In[-1].split('# Only change code above this line')[0])"
   ]
  },
  {
   "cell_type": "markdown",
   "id": "7418dc47-6891-417d-969d-14be73644b77",
   "metadata": {},
   "source": [
    "# Step 6 - Interactive Polynomial Graph\n",
    "\n",
    "For this polynomial, y = ax<sup>2</sup> + bx + c, you can move the sliders to adjust the coefficients and see how that affects the graph. Notice how the `f()` function takes two arguments and the `interactive()` function defines two sliders. Run this code and interact with it. Then add the third coefficient (\"c\") by changing three things: the `def` line so that the function takes three arguments, the `plt.plot` line so that it includes \"+ c\", and the `interactive` line to include a third slider."
   ]
  },
  {
   "cell_type": "code",
   "execution_count": null,
   "id": "2adbf07e-f877-4ade-9fdb-b46ed4c6363d",
   "metadata": {},
   "outputs": [],
   "source": [
    "# Change the next line:\n",
    "def f(a, b, c):\n",
    "    plt.axis([-10,10,-10,10]) # window size\n",
    "    plt.plot([-10,10],[0,0],'k') # blue x axis\n",
    "    plt.plot([0,0],[-10,10], 'k') # blue y axis\n",
    "    x = np.linspace(-10, 10, 200)\n",
    "    plt.plot(x, a*x**2+b*x + c) # Change this line\n",
    "    plt.show()\n",
    "\n",
    "# Change the next line:\n",
    "interactive_plot = interactive(f, a=(-9, 9), b=(-9, 9), c=(-9,9))\n",
    "display(interactive_plot)\n",
    "\n",
    "\n",
    "# Only change code above this line\n",
    "import math_code_test_c as test\n",
    "test.step06(In[-1].split('# Only change code above this line')[0]) "
   ]
  },
  {
   "cell_type": "markdown",
   "id": "5c8e9dab-3915-48cb-94f9-5d9b3f64001e",
   "metadata": {},
   "source": [
    "# Step 7 - Exponential Functions\n",
    "\n",
    "The general formula for an `exponential function` is $y = a*b^{x}$ (where `a` and `b` are constants and `x` is the variable in the exponent). The shape of exponential graphs, especially when not drawn to scale, are very consistent, so the numerical values are more important to calculate. Things that grow exponentially include populations, investments, and other \"percent increase\" situations. Run this code and use the sliders to see the slight changes. Notice the scale. Then change the slider so that `a` has negative values from -9 to -1 and see how that changes the graph."
   ]
  },
  {
   "cell_type": "code",
   "execution_count": null,
   "id": "5c8b2b4a-5767-486e-911c-8357a5ec0100",
   "metadata": {},
   "outputs": [],
   "source": [
    "xmin = -10\n",
    "xmax = 10\n",
    "ymin = -100\n",
    "ymax = 100\n",
    "\n",
    "def f(a, b):\n",
    "    plt.axis([xmin,xmax,ymin,ymax]) # window size\n",
    "    plt.plot([xmin,xmax],[0,0],'k') # x axis\n",
    "    plt.plot([0,0],[ymin,ymax], 'k') # y axis\n",
    "    x = np.linspace(xmin, xmax, 1000)\n",
    "    plt.plot(x, a*b**x)\n",
    "    plt.show()\n",
    "\n",
    "# Only change the next line:\n",
    "interactive_plot = interactive(f, a=(-9,-1), b=(1, 9))\n",
    "display(interactive_plot)\n",
    "\n",
    "\n",
    "# Only change code above this line\n",
    "import math_code_test_c as test\n",
    "test.step07(In[-1].split('# Only change code above this line')[0])"
   ]
  },
  {
   "cell_type": "markdown",
   "id": "87151d69-2c9b-4813-98f0-29dc80c16efe",
   "metadata": {},
   "source": [
    "# Step 8 - Percent Increase\n",
    "\n",
    "One formula for calculating a percent increase is <b>A = P(1 + r)<sup>t</sup></b> where `A` would be the `y` value on a graph and `t` would be the `x` value. `A` is the <i>annuity</i>, which is the amount you have at the end. `P` is the <i>principle</i>, which is the amount you have at the beginning. `R` (usually not capitalized) is the <i>rate</i>, a percent converted to a decimal. The exponent `t` represents <i>time</i>, usually in years. The code already prompts for `P`, `r` and `t`, so use those variables to calculate the annuity value."
   ]
  },
  {
   "cell_type": "code",
   "execution_count": null,
   "id": "980f24fe-0a28-4eac-9e8f-4f336ad99279",
   "metadata": {},
   "outputs": [],
   "source": [
    "p = float(input(\"Starting amount = \"))\n",
    "r = float(input(\"Enter the percentage rate, converted to a decimal: \"))\n",
    "t = float(input(\"How many years will this investment grow? \"))\n",
    "\n",
    "# Change the next line to calculate the annuity\n",
    "a = p*(1+r)**t\n",
    "\n",
    "print(\"The annuity is \", a)\n",
    "\n",
    "\n",
    "# Only change code above this line\n",
    "import math_code_test_c as test\n",
    "test.step08(In[-1].split('# Only change code above this line')[0])"
   ]
  },
  {
   "cell_type": "markdown",
   "id": "bf405274-aac3-432e-aac3-98459e9aa56d",
   "metadata": {},
   "source": [
    "# Step 9 - Percent Decrease\n",
    "\n",
    "The percent decrease formula is very similar, except you subtract the rate, so the formula is <b>A = P(1 - r)<sup>t</sup></b>. Some things that decrease by a percent include car values, decay of some elements, and sales discounts. Use the existing variables to calculate the final value (`a`)."
   ]
  },
  {
   "cell_type": "code",
   "execution_count": null,
   "id": "8f16463b-f12f-40b6-b479-2faa6fe7a6fb",
   "metadata": {},
   "outputs": [],
   "source": [
    "p = float(input(\"Starting amount = \"))\n",
    "r = float(input(\"Enter the percentage rate, converted to a decimal: \"))\n",
    "t = float(input(\"How many years will this decrease continue? \"))\n",
    "\n",
    "# Change the next line to calculate the final amount\n",
    "a = p*(1-r)**t\n",
    "\n",
    "print(\"The final amount is \", a)\n",
    "\n",
    "# Only change code above this line\n",
    "import math_code_test_c as test\n",
    "test.step09(In[-1].split('# Only change code above this line')[0]) "
   ]
  },
  {
   "cell_type": "markdown",
   "id": "06b41a9a-dbfb-43e0-8e84-5a0b2a2957ab",
   "metadata": {},
   "source": [
    "# Step 10 - Compound Interest\n",
    "\n",
    "When you use percent increase formulas for money in the bank, it's called <i>compound interest</i>. The amount of money you earn beyond the original principle is the interest. When the bank calculates the interest and adds it to the principle, that process is called <i>compounding</i> and it can happen any number of times per year. The formula is <b> A = P(1 + $\\frac{r}{n}$)<sup>nt</sup></b> where <i>n</i> is the number of times the bank compounds the money per year. Notice that if n = 1 then this formula is the same as the formula from an earlier step. Write the code to calculate the annuity (hint: use extra parentheses)"
   ]
  },
  {
   "cell_type": "code",
   "execution_count": null,
   "id": "6cfcfa34-75fa-4b9c-9f97-31c4a8894f4d",
   "metadata": {},
   "outputs": [],
   "source": [
    "p = float(input(\"Starting amount: \"))\n",
    "r = float(input(\"Percentage rate, converted to a decimal: \"))\n",
    "t = float(input(\"Number of years this investment will grow: \"))\n",
    "n = int(input(\"Number of times compounded per year: \"))\n",
    "\n",
    "# Change the next line to calculate the annuity\n",
    "annuity = p*(1+(r/n))**(n*t)\n",
    "\n",
    "print(\"The annuity is \", annuity)\n",
    "\n",
    "\n",
    "# Only change code above this line\n",
    "import math_code_test_c as test\n",
    "test.step10(In[-1].split('# Only change code above this line')[0])"
   ]
  },
  {
   "cell_type": "markdown",
   "id": "6c6cb098-eee7-48f8-a39d-0c219cfacfed",
   "metadata": {},
   "source": [
    "# Step 11 - Continuous Growth\n",
    "\n",
    "In the first formula, A = P(1 + r)<sup>t</sup>, money is compounded annually.<br>\n",
    "In the second formula, A = P(1 + $\\frac{r}{n})^{nt}$, money is compounded `n` times per year.<br>\n",
    "As `n` gets to be a really big number, you get a different formula, A = Pe$^{rt}$, for continuous growth.<br>\n",
    "In this formula, `e` is a constant, about equal to 2.718281828. The following code already prompts for the four variables once. Use those variables to compare the annuity from the three formulas. Notice you need to `import math` to use `math.e` (the best approximation of e)."
   ]
  },
  {
   "cell_type": "code",
   "execution_count": null,
   "id": "4320b5e0-a91b-49ca-8005-b710ee9e2992",
   "metadata": {},
   "outputs": [],
   "source": [
    "p = float(input(\"Principle: \"))\n",
    "r = float(input(\"Rate: \"))\n",
    "t = int(input(\"Time: \"))\n",
    "n = int(input(\"N: \"))\n",
    "\n",
    "# Only change the following three formulas:\n",
    "a_annual = p*(1+r)**t\n",
    "a_n_times = p*(1+r/n)**(n*t)\n",
    "a_continuous =  p*math.e**(r*t) # use math.e in this formula\n",
    "\n",
    "# Only change the code above this line\n",
    "\n",
    "print(\"Compounded annually, anuity = \", a_annual)\n",
    "print(\"Compounded \", n, \"times per year, anuity = \", a_n_times)\n",
    "print(\"Compounded continuously, anuity = \", a_continuous)\n",
    "\n",
    "\n",
    "# Only change code above this line\n",
    "import math_code_test_c as test\n",
    "test.step11(In[-1].split('# Only change code above this line')[0])"
   ]
  },
  {
   "cell_type": "markdown",
   "id": "5d4133a3-b781-4319-8f51-9d5e26699f33",
   "metadata": {},
   "source": [
    "# Step 12 - Investments\n",
    "\n",
    "If you have an investment where you contribute money every month and the value also increases by a consistent percentage, you can create a loop to calculate the accumulated value. In each iteration, use the simple interest formula: interest = principle * rate * time. (Hint: for one month, t =  112  or you can just divide by 12.)"
   ]
  },
  {
   "cell_type": "code",
   "execution_count": null,
   "id": "2ed4a454-68e9-41a8-be64-e05a107de8d0",
   "metadata": {},
   "outputs": [],
   "source": [
    "p = float(input(\"Starting amount: \"))\n",
    "r = float(input(\"Annual percentage rate: \"))\n",
    "t = int(input(\"Number of years: \"))\n",
    "monthly = float(input(\"Monthly contribution: \"))\n",
    "\n",
    "# Hint: keep updating this annuity variable in the loop\n",
    "annuity = p\n",
    "\n",
    "# Each iteration of the loop represents one month\n",
    "for a in range(12*t):\n",
    "    annuity = annuity + monthly\n",
    "    # Change the next line to calculate the interest\n",
    "    interest = annuity * r / 12\n",
    "    annuity = annuity + interest\n",
    "\n",
    "# Keep this line:\n",
    "print(\"Annuity = \", annuity)\n",
    "\n",
    "\n",
    "# Only change code above this line\n",
    "import math_code_test_c as test\n",
    "test.step12(p,r,t,monthly,annuity)"
   ]
  },
  {
   "cell_type": "markdown",
   "id": "e6aa4eb8-0cce-40b0-929d-f23a2392d490",
   "metadata": {},
   "source": [
    "# Step 13 - Mortgage Payments\n",
    "\n",
    "When borrowing a large amount of money over a long period of time, the formula to calculate monthly payments gets complicated. Here it is:<br>\n",
    " monthly payment = P$\\frac{\\frac{r}{12}(1 + \\frac{r}{12})^{12t}}{(1 + \\frac{r}{12})^{12t} - 1}$ where, as usual, `P` is the principle, `r` is the annual interest rate (as a decimal), and  `t` is the time in years. Write the code to prompt for these variables and calculate the monthly payment. Hint: Use other variables and do this in steps."
   ]
  },
  {
   "cell_type": "code",
   "execution_count": null,
   "id": "ad661c1f-d09a-4e13-b3d4-a9596570f71f",
   "metadata": {},
   "outputs": [],
   "source": [
    "p = float(input(\"Amount borrowed: \"))\n",
    "r = float(input(\"Annual percentage rate: \"))\n",
    "t = float(input(\"Number of years: \"))\n",
    "\n",
    "# Write your code here and change the pmt variable\n",
    "\n",
    "#pmt = 0 #p(1/12(1+(r/12))*12*t / (1+(r/12)*12*t)-1\n",
    "\n",
    "mult = 1+r/12\n",
    "exp = 12*t\n",
    "top = r/12*mult**exp\n",
    "bot = (mult**exp)-1\n",
    "pmt = top/bot\n",
    "\n",
    "print(\"Monthly payment = $\", pmt)\n",
    "\n",
    "\n",
    "# Only change code above this line\n",
    "import math_code_test_c as test\n",
    "test.step13(p,r,t,pmt)"
   ]
  },
  {
   "cell_type": "markdown",
   "id": "43729308-52c2-4653-9626-f1fa7a50a15f",
   "metadata": {},
   "source": [
    "# Step 14 - Exponents and Logarithms\n",
    "\n",
    "Exponential functions and logarithmic functions are inverses of each other. Here is an example: <b>2<sup>4</sup> = 16</b> and <b>log<sub>2</sub>16 = 4</b>. Both have the same information rearranged in different ways. If you had 2<sup>4</sup> = x you would be able to do that easily, but if you had 2<sup>x</sup> = 16 it would be more difficult. You could write that last equation as a logarithm: log<sub>2</sub>16 = x. In Python, you would write this as `math.log(16,2)`. In both cases, you would read it as \"the log, base 2, of 16\" and the answer would be an exponent. The logarithm is especially useful when the exponent is not a nice integer. Write code to prompt for the base and the result, then use logarithms to calculate the exponent."
   ]
  },
  {
   "cell_type": "code",
   "execution_count": null,
   "id": "b1a3fd8d-1dce-4556-88af-5d5889628900",
   "metadata": {},
   "outputs": [],
   "source": [
    "base = float(input(\"base: \"))\n",
    "result = float(input(\"result: \"))\n",
    "\n",
    "# Just change the next line:\n",
    " exp = math.log(result, base)\n",
    "\n",
    "print(\"exponent = \", exp)\n",
    "\n",
    "\n",
    "# Only change code above this line\n",
    "import math_code_test_c as test\n",
    "test.step14(In[-1].split('# Only change code above this line')[0])"
   ]
  },
  {
   "cell_type": "markdown",
   "id": "a0bcb676-1f79-4ca2-901c-64f3b1f316e6",
   "metadata": {},
   "source": [
    "# Step 15 - Natural Logs\n",
    "\n",
    "If you know the rate, how long will it take for something to double?\n",
    "Start with the continuous growth formula:<br>\n",
    "A = Pe<sup>rt</sup><br>\n",
    "If annuity is two times the principle, divide both sides by P\n",
    "and get this:<br>\n",
    "2 = e<sup>rt</sup><br>\n",
    "Because of the base <i>e</i>, take the natural log of both sides and get this:<br>\n",
    "ln(2) = rt<br>\n",
    "Then divide by r to solve for t or divide by t to solve for r. In Python, use `math.log()` with one argument and no base to calculate natural log (which is a logarithm with base e). So the natural log of 2 is `math.log(2)`. Just run the code to see this example."
   ]
  },
  {
   "cell_type": "code",
   "execution_count": null,
   "id": "9a41d5c5-e1ca-4dc8-af29-1cb6783de029",
   "metadata": {},
   "outputs": [],
   "source": [
    "r = float(input(\"Enter the annual rate as a decimal: \\n\"))\n",
    "t = math.log(2)/r\n",
    "print(\"Your money will double in \", t, \" years\")\n",
    "\n",
    "\n",
    "# Just run this code\n",
    "import math_code_test_c as test\n",
    "test.step00()"
   ]
  },
  {
   "cell_type": "markdown",
   "id": "d1796182-701f-4f76-888b-9eb60c1c9f33",
   "metadata": {},
   "source": [
    "# Step 16 - Common Logs\n",
    "\n",
    "The <i>common log</i> is base 10, because that is our number system. Run this code a few times to see how the exponents relate to moving the decimal point to get the resulting number. Notice the floor function. Then take out the floor function to see the exact logarithm."
   ]
  },
  {
   "cell_type": "code",
   "execution_count": 7,
   "id": "ce6faee0-bfa1-450f-ae2d-2741890b8db6",
   "metadata": {},
   "outputs": [
    {
     "name": "stdin",
     "output_type": "stream",
     "text": [
      "Enter a number with several digits or several decimal places:  11\n"
     ]
    },
    {
     "name": "stdout",
     "output_type": "stream",
     "text": [
      "exponent =  1\n",
      " \n",
      "Now remove the math.floor function and run it again.\n"
     ]
    }
   ],
   "source": [
    "n = input('Enter a number with several digits or several decimal places: ')\n",
    "n = float(n)\n",
    "\n",
    "\n",
    "# Rund the code then change the next line:\n",
    "exp = math.floor(math.log(n, 10))\n",
    "\n",
    "# This avoids a weird Python quirk:\n",
    "if n==1000:\n",
    "    exp = 3;\n",
    "\n",
    "print(\"exponent = \", exp)\n",
    "\n",
    "\n",
    "# Only change code above this line\n",
    "import math_code_test_c as test\n",
    "test.step16(In[-1].split('# Only change code above this line')[0])"
   ]
  },
  {
   "cell_type": "markdown",
   "id": "5fa64378-edb4-4e58-9aa6-24c0bfe2a983",
   "metadata": {},
   "source": [
    "# Step 17 - Scientific Notation\n",
    "\n",
    "<i>Scientific Notation</i> is a way of writing very large or very small numbers without all of the zeros or decimal places. For example, 45,000,000 could be written as 4.5 x 10<sup>7</sup> in scientific notation and 0.00000045 could be written as 4.5 x 10<sup>-7</sup>. The notation requires base 10, so it will always use the structure <b>n $*$ 10<sup>x</sup></b> where n is one digit then the decimal point. Change the code below to print each number in scientific notation. Determine the value of each variable by counting (not writing code). You will automate this process in the next step."
   ]
  },
  {
   "cell_type": "code",
   "execution_count": 9,
   "id": "238a7f1e-23a2-4208-aab1-9b10d68c7f51",
   "metadata": {},
   "outputs": [
    {
     "name": "stdout",
     "output_type": "stream",
     "text": [
      "156000000000  =  1.56 * 10^ 11\n",
      "4.13e-10  =  4.13 * 10^ -10\n",
      " \n",
      "Code test passed\n",
      "Go on to the next step\n"
     ]
    }
   ],
   "source": [
    "a = 156000000000\n",
    "b = 0.000000000413\n",
    "\n",
    "# Change the code below this line\n",
    "\n",
    "a1 = 1.56\n",
    "a2 = 11\n",
    "b1 = 4.13\n",
    "b2 = -10\n",
    "\n",
    "print(a, \" = \", a1, \"* 10^\", a2)\n",
    "\n",
    "print(b, \" = \", b1, \"* 10^\", b2)\n",
    "\n",
    "\n",
    "# Only change code above this line\n",
    "import math_code_test_c as test\n",
    "test.step17(b1,b2)"
   ]
  },
  {
   "cell_type": "markdown",
   "id": "ec4b5a12-d85d-4e00-a702-19684e63489b",
   "metadata": {},
   "source": [
    "# Step 18 - Logs and Scientific Notation\n",
    "\n",
    "Writing code for scientific notation, you will make use of logarithms with base 10. Remember that scientific notation is in the form n $*$ 10<sup>x</sup> where `n` is one digit and then a decimal. To convert a number to scientific notation, take the log of the number and use the `floor()` function to get the exponent (just as you did in a previous step). Divide the original number by 10 to that exponent and you get `n` (hint: dividing by 10<sup>x</sup> is the same as multiplying by 10<sup>-x</sup>). Rounding is usually necessary. Write the code to convert numbers to scientific notation."
   ]
  },
  {
   "cell_type": "code",
   "execution_count": null,
   "id": "ff82eafe-ee33-4d55-97da-3b374838d209",
   "metadata": {},
   "outputs": [],
   "source": [
    "a = .00000000000234\n",
    "b = 12300000000000\n",
    "\n",
    "# Use these three lines as a model\n",
    "x1 = math.floor(math.log(a,10))\n",
    "n1 = round(a*10**(-x1),2)\n",
    "print(\"a = \", n1, \"* 10^\", x1)\n",
    "\n",
    "# Change the next two lines to match the model\n",
    "x2 = 0\n",
    "n2 = 0\n",
    "print(\"b = \", n2, \"* 10^\", x2)\n",
    "\n",
    "\n",
    "\n",
    "# Only change code above this line\n",
    "import math_code_test_c as test\n",
    "test.step18(In[-1].split('# Only change code above this line')[0])"
   ]
  }
 ],
 "metadata": {
  "kernelspec": {
   "display_name": "Python 3 (ipykernel)",
   "language": "python",
   "name": "python3"
  },
  "language_info": {
   "codemirror_mode": {
    "name": "ipython",
    "version": 3
   },
   "file_extension": ".py",
   "mimetype": "text/x-python",
   "name": "python",
   "nbconvert_exporter": "python",
   "pygments_lexer": "ipython3",
   "version": "3.9.19"
  }
 },
 "nbformat": 4,
 "nbformat_minor": 5
}
