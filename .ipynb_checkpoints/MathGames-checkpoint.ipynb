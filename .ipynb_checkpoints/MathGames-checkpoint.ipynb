{
 "cells": [
  {
   "cell_type": "markdown",
   "id": "08a9ceac-d4f0-4e0c-88b0-44b521815cf6",
   "metadata": {},
   "source": [
    "# Three Math Games\n",
    "\n",
    "For this challenge, you need to create three math games using Python that do the following:\n",
    "\n",
    "- Scatter plot game:\n",
    "  - Randomly generate points on a graph and the player has to input the (x,y) coordinates\n",
    "  - For added difficulty, make the graph larger\n",
    "- Algebra practice game:\n",
    "  - Generate one-step and two-step problems with random integer values and the player has to input the answer\n",
    "  - Use positive and negative values. For added difficulty, make the numbers larger\n",
    "- Projectile game:\n",
    "  - Display a \"wall\" with random height and location. Player has to move sliders to adjust a parabolic path to clear the wall\n",
    "  - For added difficulty, make a second level where players enter a, b, and c without sliders"
   ]
  },
  {
   "cell_type": "code",
   "execution_count": 14,
   "id": "4a64dd34-6bc6-4e57-89fd-78ff662f6180",
   "metadata": {},
   "outputs": [],
   "source": [
    "import pandas as pd\n",
    "import numpy as np\n",
    "import matplotlib.pyplot as plt\n",
    "import random\n",
    "import numpy as np\n",
    "import matplotlib.pyplot as plt\n",
    "from ipywidgets import interact, FloatSlider, fixed\n",
    "from IPython.display import display\n",
    "from ipywidgets import interactive"
   ]
  },
  {
   "cell_type": "code",
   "execution_count": 7,
   "id": "cc509245-04b1-4bac-9e24-facd6be8ac87",
   "metadata": {},
   "outputs": [
    {
     "data": {
      "image/png": "[encoded data removed]",
      "text/plain": [
       "<Figure size 640x480 with 1 Axes>"
      ]
     },
     "metadata": {},
     "output_type": "display_data"
    },
    {
     "ename": "KeyboardInterrupt",
     "evalue": "Interrupted by user",
     "output_type": "error",
     "traceback": [
      "\u001b[0;31m---------------------------------------------------------------------------\u001b[0m",
      "\u001b[0;31mKeyboardInterrupt\u001b[0m                         Traceback (most recent call last)",
      "Cell \u001b[0;32mIn[7], line 23\u001b[0m\n\u001b[1;32m     20\u001b[0m plt\u001b[38;5;241m.\u001b[39mshow()\n\u001b[1;32m     22\u001b[0m \u001b[38;5;66;03m# Step 3: Get Player Input\u001b[39;00m\n\u001b[0;32m---> 23\u001b[0m x_guess \u001b[38;5;241m=\u001b[39m \u001b[38;5;28mint\u001b[39m(\u001b[38;5;28;43minput\u001b[39;49m\u001b[43m(\u001b[49m\u001b[38;5;124;43m\"\u001b[39;49m\u001b[38;5;124;43mEnter the x-coordinate of the point: \u001b[39;49m\u001b[38;5;124;43m\"\u001b[39;49m\u001b[43m)\u001b[49m)\n\u001b[1;32m     24\u001b[0m y_guess \u001b[38;5;241m=\u001b[39m \u001b[38;5;28mint\u001b[39m(\u001b[38;5;28minput\u001b[39m(\u001b[38;5;124m\"\u001b[39m\u001b[38;5;124mEnter the y-coordinate of the point: \u001b[39m\u001b[38;5;124m\"\u001b[39m))\n\u001b[1;32m     26\u001b[0m \u001b[38;5;66;03m# Step 4: Check Accuracy\u001b[39;00m\n",
      "File \u001b[0;32m~/opt/anaconda3/lib/python3.9/site-packages/ipykernel/kernelbase.py:1262\u001b[0m, in \u001b[0;36mKernel.raw_input\u001b[0;34m(self, prompt)\u001b[0m\n\u001b[1;32m   1260\u001b[0m     msg \u001b[38;5;241m=\u001b[39m \u001b[38;5;124m\"\u001b[39m\u001b[38;5;124mraw_input was called, but this frontend does not support input requests.\u001b[39m\u001b[38;5;124m\"\u001b[39m\n\u001b[1;32m   1261\u001b[0m     \u001b[38;5;28;01mraise\u001b[39;00m StdinNotImplementedError(msg)\n\u001b[0;32m-> 1262\u001b[0m \u001b[38;5;28;01mreturn\u001b[39;00m \u001b[38;5;28;43mself\u001b[39;49m\u001b[38;5;241;43m.\u001b[39;49m\u001b[43m_input_request\u001b[49m\u001b[43m(\u001b[49m\n\u001b[1;32m   1263\u001b[0m \u001b[43m    \u001b[49m\u001b[38;5;28;43mstr\u001b[39;49m\u001b[43m(\u001b[49m\u001b[43mprompt\u001b[49m\u001b[43m)\u001b[49m\u001b[43m,\u001b[49m\n\u001b[1;32m   1264\u001b[0m \u001b[43m    \u001b[49m\u001b[38;5;28;43mself\u001b[39;49m\u001b[38;5;241;43m.\u001b[39;49m\u001b[43m_parent_ident\u001b[49m\u001b[43m[\u001b[49m\u001b[38;5;124;43m\"\u001b[39;49m\u001b[38;5;124;43mshell\u001b[39;49m\u001b[38;5;124;43m\"\u001b[39;49m\u001b[43m]\u001b[49m\u001b[43m,\u001b[49m\n\u001b[1;32m   1265\u001b[0m \u001b[43m    \u001b[49m\u001b[38;5;28;43mself\u001b[39;49m\u001b[38;5;241;43m.\u001b[39;49m\u001b[43mget_parent\u001b[49m\u001b[43m(\u001b[49m\u001b[38;5;124;43m\"\u001b[39;49m\u001b[38;5;124;43mshell\u001b[39;49m\u001b[38;5;124;43m\"\u001b[39;49m\u001b[43m)\u001b[49m\u001b[43m,\u001b[49m\n\u001b[1;32m   1266\u001b[0m \u001b[43m    \u001b[49m\u001b[43mpassword\u001b[49m\u001b[38;5;241;43m=\u001b[39;49m\u001b[38;5;28;43;01mFalse\u001b[39;49;00m\u001b[43m,\u001b[49m\n\u001b[1;32m   1267\u001b[0m \u001b[43m\u001b[49m\u001b[43m)\u001b[49m\n",
      "File \u001b[0;32m~/opt/anaconda3/lib/python3.9/site-packages/ipykernel/kernelbase.py:1305\u001b[0m, in \u001b[0;36mKernel._input_request\u001b[0;34m(self, prompt, ident, parent, password)\u001b[0m\n\u001b[1;32m   1302\u001b[0m \u001b[38;5;28;01mexcept\u001b[39;00m \u001b[38;5;167;01mKeyboardInterrupt\u001b[39;00m:\n\u001b[1;32m   1303\u001b[0m     \u001b[38;5;66;03m# re-raise KeyboardInterrupt, to truncate traceback\u001b[39;00m\n\u001b[1;32m   1304\u001b[0m     msg \u001b[38;5;241m=\u001b[39m \u001b[38;5;124m\"\u001b[39m\u001b[38;5;124mInterrupted by user\u001b[39m\u001b[38;5;124m\"\u001b[39m\n\u001b[0;32m-> 1305\u001b[0m     \u001b[38;5;28;01mraise\u001b[39;00m \u001b[38;5;167;01mKeyboardInterrupt\u001b[39;00m(msg) \u001b[38;5;28;01mfrom\u001b[39;00m \u001b[38;5;28;01mNone\u001b[39;00m\n\u001b[1;32m   1306\u001b[0m \u001b[38;5;28;01mexcept\u001b[39;00m \u001b[38;5;167;01mException\u001b[39;00m:\n\u001b[1;32m   1307\u001b[0m     \u001b[38;5;28mself\u001b[39m\u001b[38;5;241m.\u001b[39mlog\u001b[38;5;241m.\u001b[39mwarning(\u001b[38;5;124m\"\u001b[39m\u001b[38;5;124mInvalid Message:\u001b[39m\u001b[38;5;124m\"\u001b[39m, exc_info\u001b[38;5;241m=\u001b[39m\u001b[38;5;28;01mTrue\u001b[39;00m)\n",
      "\u001b[0;31mKeyboardInterrupt\u001b[0m: Interrupted by user"
     ]
    }
   ],
   "source": [
    "# Scatter plot game\n",
    "# Step 1: Generate Random Points\n",
    "num_points = 1  # You can increase this to generate more points\n",
    "x_values = np.random.randint(0, 10, num_points)\n",
    "y_values = np.random.randint(0, 10, num_points)\n",
    "\n",
    "# Create a DataFrame to store the points\n",
    "points_df = pd.DataFrame({'x': x_values, 'y': y_values})\n",
    "\n",
    "# Step 2: Plot the Points\n",
    "plt.scatter(points_df['x'], points_df['y'], color='red')\n",
    "plt.xlim(0, 10)\n",
    "plt.ylim(0, 10)\n",
    "plt.xlabel(\"X-axis\")\n",
    "plt.ylabel(\"Y-axis\")\n",
    "plt.title(\"Guess the Coordinates!\")\n",
    "plt.grid(True)\n",
    "\n",
    "# Show the graph\n",
    "plt.show()\n",
    "\n",
    "# Step 3: Get Player Input\n",
    "x_guess = int(input(\"Enter the x-coordinate of the point: \"))\n",
    "y_guess = int(input(\"Enter the y-coordinate of the point: \"))\n",
    "\n",
    "# Step 4: Check Accuracy\n",
    "for i, row in points_df.iterrows():\n",
    "    if row['x'] == x_guess and row['y'] == y_guess:\n",
    "        print(\"Correct! The point was at (\", row['x'], \",\", row['y'], \")\")\n",
    "    else:\n",
    "        print(\"Wrong guess! The point was at (\", row['x'], \",\", row['y'], \")\")"
   ]
  },
  {
   "cell_type": "code",
   "execution_count": 6,
   "id": "1022bdaf-b9e3-4d3a-8a09-b692c675e865",
   "metadata": {},
   "outputs": [
    {
     "name": "stdout",
     "output_type": "stream",
     "text": [
      "Solve this one-step problem: 5 * -36\n"
     ]
    },
    {
     "name": "stdin",
     "output_type": "stream",
     "text": [
      "Your answer:  -180\n"
     ]
    },
    {
     "name": "stdout",
     "output_type": "stream",
     "text": [
      "Correct!\n"
     ]
    },
    {
     "name": "stdin",
     "output_type": "stream",
     "text": [
      "Do you want to solve another problem? (yes/no):  no\n"
     ]
    },
    {
     "name": "stdout",
     "output_type": "stream",
     "text": [
      "Thanks for playing!\n"
     ]
    }
   ],
   "source": [
    "# Algebra practice game\n",
    "import random\n",
    "\n",
    "# Function to generate a random one-step problem\n",
    "def generate_one_step_problem():\n",
    "    operations = ['+', '-', '*', '/']\n",
    "    operation = random.choice(operations)\n",
    "    num1 = random.randint(-100, 100)\n",
    "    num2 = random.randint(-100, 100)\n",
    "\n",
    "    # Ensure no division by zero\n",
    "    if operation == '/':\n",
    "        num2 = random.randint(1, 100) if num2 == 0 else num2\n",
    "        question = f\"{num1} {operation} {num2}\"\n",
    "        answer = round(num1 / num2, 2)  # Round to 2 decimal places for division\n",
    "    else:\n",
    "        question = f\"{num1} {operation} {num2}\"\n",
    "        answer = eval(question)  # Simple evaluation of one-step problems\n",
    "\n",
    "    return question, answer\n",
    "\n",
    "# Function to generate a random two-step problem\n",
    "def generate_two_step_problem():\n",
    "    operations = ['+', '-', '*', '/']\n",
    "    operation1 = random.choice(operations)\n",
    "    operation2 = random.choice(operations)\n",
    "    num1 = random.randint(-100, 100)\n",
    "    num2 = random.randint(-100, 100)\n",
    "    num3 = random.randint(-100, 100)\n",
    "\n",
    "    # Ensure no division by zero\n",
    "    if operation1 == '/':\n",
    "        num2 = random.randint(1, 100) if num2 == 0 else num2\n",
    "    if operation2 == '/':\n",
    "        num3 = random.randint(1, 100) if num3 == 0 else num3\n",
    "\n",
    "    # Create a two-step problem\n",
    "    question = f\"({num1} {operation1} {num2}) {operation2} {num3}\"\n",
    "    answer = eval(question)\n",
    "\n",
    "    return question, answer\n",
    "\n",
    "# Function to present a problem to the player\n",
    "def present_problem(problem_type=\"one-step\"):\n",
    "    if problem_type == \"one-step\":\n",
    "        question, answer = generate_one_step_problem()\n",
    "    else:\n",
    "        question, answer = generate_two_step_problem()\n",
    "\n",
    "    print(f\"Solve this {problem_type} problem: {question}\")\n",
    "    player_answer = float(input(\"Your answer: \"))\n",
    "\n",
    "    if round(player_answer, 2) == round(answer, 2):\n",
    "        print(\"Correct!\")\n",
    "    else:\n",
    "        print(f\"Wrong! The correct answer was {answer}\")\n",
    "\n",
    "# Main loop for the player to keep solving problems\n",
    "def main():\n",
    "    while True:\n",
    "        problem_type = random.choice([\"one-step\", \"two-step\"])\n",
    "        present_problem(problem_type)\n",
    "\n",
    "        # Ask if the player wants to continue\n",
    "        play_again = input(\"Do you want to solve another problem? (yes/no): \").strip().lower()\n",
    "        if play_again != 'yes':\n",
    "            print(\"Thanks for playing!\")\n",
    "            break\n",
    "\n",
    "# Run the game\n",
    "main()"
   ]
  },
  {
   "cell_type": "code",
   "execution_count": null,
   "id": "2f340bbb-f9c4-4514-b3d7-4b6111219c15",
   "metadata": {},
   "outputs": [
    {
     "name": "stdout",
     "output_type": "stream",
     "text": [
      "Welcome to the Parabolic Path Game!\n",
      "First Level: Use sliders to adjust the path.\n"
     ]
    },
    {
     "data": {
      "application/vnd.jupyter.widget-view+json": {
       "model_id": "316eb5b3ee874eea95274d2a1cb28c68",
       "version_major": 2,
       "version_minor": 0
      },
      "text/plain": [
       "interactive(children=(FloatSlider(value=1.0, description='a', max=2.0, min=-2.0), FloatSlider(value=0.0, descr…"
      ]
     },
     "metadata": {},
     "output_type": "display_data"
    }
   ],
   "source": [
    "#Projectile game\n",
    "# Function to display the wall and the parabolic path\n",
    "def plot_wall_and_path(a, b, c, wall_x, wall_height):\n",
    "    # Create the parabola\n",
    "    x = np.linspace(0, 10, 1000)\n",
    "    y = a*x**2 + b*x + c\n",
    "\n",
    "    # Create the plot\n",
    "    plt.figure(figsize=(10, 6))\n",
    "    plt.plot(x, y, label=f'Path: y = {a}x^2 + {b}x + {c}', color='blue')\n",
    "\n",
    "    # Plot the wall\n",
    "    plt.plot([wall_x, wall_x], [0, wall_height], color='red', lw=5, label=\"Wall\")\n",
    "    plt.fill_betweenx([0, wall_height], wall_x, wall_x, color='red', alpha=0.6)\n",
    "\n",
    "    # Set plot limits\n",
    "    plt.xlim(0, 10)\n",
    "    plt.ylim(0, max(50, wall_height + 10))\n",
    "    \n",
    "    # Labels and title\n",
    "    plt.xlabel('X')\n",
    "    plt.ylabel('Y')\n",
    "    plt.title('Adjust the parabolic path to clear the wall!')\n",
    "    plt.legend()\n",
    "    plt.grid(True)\n",
    "    plt.show()\n",
    "\n",
    "# First level - Using sliders\n",
    "def first_level_game():\n",
    "    # Randomly generate wall position and height\n",
    "    wall_x = np.random.uniform(4, 8)\n",
    "    wall_height = np.random.uniform(10, 40)\n",
    "\n",
    "    # Use sliders for 'a', 'b', and 'c'\n",
    "    a_slider = FloatSlider(value=1, min=-2, max=2, step=0.1, description='a')\n",
    "    b_slider = FloatSlider(value=0, min=-10, max=10, step=0.5, description='b')\n",
    "    c_slider = FloatSlider(value=0, min=-10, max=10, step=0.5, description='c')\n",
    "\n",
    "    interact(plot_wall_and_path, a=a_slider, b=b_slider, c=c_slider, wall_x=fixed(wall_x), wall_height=fixed(wall_height))\n",
    "\n",
    "# Second level - Input for a, b, and c\n",
    "def second_level_game():\n",
    "    # Randomly generate wall position and height\n",
    "    wall_x = np.random.uniform(4, 8)\n",
    "    wall_height = np.random.uniform(10, 40)\n",
    "\n",
    "    # Ask for user input for 'a', 'b', and 'c'\n",
    "    a = float(input(\"Enter the value for 'a' (controls the curve): \"))\n",
    "    b = float(input(\"Enter the value for 'b' (controls the slope): \"))\n",
    "    c = float(input(\"Enter the value for 'c' (controls the height): \"))\n",
    "\n",
    "    # Plot the results\n",
    "    plot_wall_and_path(a, b, c, wall_x, wall_height)\n",
    "\n",
    "# Main game loop\n",
    "def main_game():\n",
    "    print(\"Welcome to the Parabolic Path Game!\")\n",
    "    print(\"First Level: Use sliders to adjust the path.\")\n",
    "    first_level_game()\n",
    "\n",
    "    input(\"Press Enter to proceed to the second level...\")\n",
    "\n",
    "    print(\"Second Level: Now, enter the values for a, b, and c manually.\")\n",
    "    second_level_game()\n",
    "\n",
    "# Run the game\n",
    "main_game()\n"
   ]
  }
 ],
 "metadata": {
  "kernelspec": {
   "display_name": "Python 3 (ipykernel)",
   "language": "python",
   "name": "python3"
  },
  "language_info": {
   "codemirror_mode": {
    "name": "ipython",
    "version": 3
   },
   "file_extension": ".py",
   "mimetype": "text/x-python",
   "name": "python",
   "nbconvert_exporter": "python",
   "pygments_lexer": "ipython3",
   "version": "3.9.19"
  }
 },
 "nbformat": 4,
 "nbformat_minor": 5
}
