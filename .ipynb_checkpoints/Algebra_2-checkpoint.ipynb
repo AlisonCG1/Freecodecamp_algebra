{
 "cells": [
  {
   "cell_type": "code",
   "execution_count": null,
   "id": "2f25b970",
   "metadata": {},
   "outputs": [],
   "source": []
  },
  {
   "cell_type": "markdown",
   "id": "e0078a43",
   "metadata": {},
   "source": [
    "# Functions"
   ]
  },
  {
   "cell_type": "markdown",
   "id": "a6f864bf",
   "metadata": {},
   "source": [
    "Function and a table of (x,y) values"
   ]
  },
  {
   "cell_type": "code",
   "execution_count": null,
   "id": "2d54cf53",
   "metadata": {},
   "outputs": [],
   "source": [
    "x = 5\n",
    "y = 4*x + 3 # The function \n",
    "\n",
    "print(x,\",\",y)\n",
    "\n",
    "print(\"x \\t y\") \n",
    "\n",
    "for x in range(11):\n",
    "    y = 4*x + 3  # The function\n",
    "    print(x, \"\\t\", y)"
   ]
  }
 ],
 "metadata": {
  "kernelspec": {
   "display_name": "Python 3 (ipykernel)",
   "language": "python",
   "name": "python3"
  },
  "language_info": {
   "codemirror_mode": {
    "name": "ipython",
    "version": 3
   },
   "file_extension": ".py",
   "mimetype": "text/x-python",
   "name": "python",
   "nbconvert_exporter": "python",
   "pygments_lexer": "ipython3",
   "version": "3.9.18"
  }
 },
 "nbformat": 4,
 "nbformat_minor": 5
}
