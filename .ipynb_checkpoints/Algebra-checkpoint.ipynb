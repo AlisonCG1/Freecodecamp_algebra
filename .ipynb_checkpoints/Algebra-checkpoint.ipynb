{
 "cells": [
  {
   "cell_type": "markdown",
   "id": "2a601beb",
   "metadata": {},
   "source": [
    "Algebra in python:\n",
    "\n",
    "Ratios and Proportions"
   ]
  },
  {
   "cell_type": "markdown",
   "id": "c8742ff9",
   "metadata": {},
   "source": [
    "Set up a proportion:\n",
    "𝑛1|𝑑1 = 𝑛2|𝑑2 "
   ]
  },
  {
   "cell_type": "code",
   "execution_count": null,
   "id": "983903d5",
   "metadata": {},
   "outputs": [],
   "source": [
    "# Put a zero in for the unknown value\n",
    "n1 = 1\n",
    "d1 = 2\n",
    "n2 = 4\n",
    "d2 = 0\n",
    "\n",
    "if n2==0:\n",
    "    answer = d2 * n1 / d1\n",
    "    print(\"n2 = \", answer)\n",
    "\n",
    "if d2==0:\n",
    "    answer = n2 * d1 / n1\n",
    "    print(\"d2 = \", answer)\n"
   ]
  },
  {
   "cell_type": "code",
   "execution_count": null,
   "id": "2c823ba7",
   "metadata": {},
   "outputs": [],
   "source": [
    "# converts string input (even fractions) to float\n",
    "def string_frac(in_string):\n",
    "    if \"/\" in in_string:\n",
    "        nd = in_string.split(\"/\")\n",
    "        n = float(nd[0])\n",
    "        d = float(nd[1])\n",
    "        ans = n/d\n",
    "        return ans\n",
    "    else:\n",
    "        ans = float(in_string)\n",
    "        return ans\n",
    "\n",
    "\n",
    "# Simplest one-step addition\n",
    "def one_step_add():\n",
    "    import random\n",
    "    # Display problem\n",
    "    a = random.randint(-4,10)\n",
    "    b = random.randint(2,24)\n",
    "    print(\"x + \", a, \" = \", b)\n",
    "    ans = float(input(\"x = \"))\n",
    "    answer = b-a\n",
    "    # Test input\n",
    "    if ans==answer:\n",
    "        print(\"Correct! \\n\")\n",
    "    else:\n",
    "        print(\"Try again\")\n",
    "        print(\"The correct answer is \", answer, \"\\n\")\n",
    "\n",
    "\n",
    "# One-step additon with negaive numbers\n",
    "def one_step_subtract():\n",
    "    import random\n",
    "    a = random.randint(-19,-1)\n",
    "    b = random.randint(2,24)\n",
    "    print(a, \" + x = \", b)\n",
    "    ans = float(input(\"x = \"))\n",
    "    # test\n",
    "    answer = b-a\n",
    "    if ans==answer:\n",
    "        print(\"Correct! \\n\")\n",
    "    else:\n",
    "        print(\"Try again\")\n",
    "        print(\"The correct answer is \", answer, \"\\n\")\n",
    "\n",
    "# One-step multiply\n",
    "def one_step_mult():\n",
    "    # Uses string_frac(<input string>)\n",
    "    import random\n",
    "    a = random.randint(1,11)\n",
    "    b = random.randint(2,24)\n",
    "    print(a, \"x = \", b)\n",
    "    print(\"Round your answer to two decimal places.\")\n",
    "    ans_in = (input(\"x = \"))\n",
    "    answer = round(b/a,2)\n",
    "    # test\n",
    "    if string_frac(ans_in)==answer:\n",
    "        print(\"Correct! \\n\")\n",
    "    else:\n",
    "        print(\"Try again\")\n",
    "        print(\"The correct answer is \", answer, \"\\n\")\n",
    "\n",
    "\n",
    "# One-step divide\n",
    "def one_step_div():\n",
    "    import random\n",
    "    a = random.randint(1,11)\n",
    "    b = random.randint(2,24)\n",
    "    print(\"x/\", a, \" = \", b)\n",
    "    ans = float(input(\"x = \"))\n",
    "    answer = b*a\n",
    "    # test\n",
    "    if ans==answer:\n",
    "        print(\"Correct! \\n\")\n",
    "    else:\n",
    "        print(\"Try again\")\n",
    "        print(\"The correct answer is \", answer, \"\\n\")\n",
    "\n",
    "\n",
    "# Two-step problems\n",
    "def two_step():\n",
    "    import random\n",
    "    # Uses string_frac()\n",
    "    a = random.randint(1,11)\n",
    "    b = random.randint(-7,12)\n",
    "    c = random.randint(2,36)\n",
    "    print(a, \"x + \", b, \" = \", c)\n",
    "    print(\"Round answer to two decimal places\")\n",
    "    ans_in = input(\"x = \")\n",
    "    answer = (c-b)/a\n",
    "    # test\n",
    "    if round(string_frac(ans_in),2)==round(answer,2):\n",
    "        print(\"Correct! \\n\")\n",
    "    else:\n",
    "        print(\"Try again\")\n",
    "        print(\"The correct answer is \", answer, \"\\n\")\n",
    "\n",
    "\n",
    "# test loop\n",
    "for a in range(2):\n",
    "    one_step_add()\n",
    "    one_step_subtract()\n",
    "    one_step_mult()\n",
    "    one_step_div()\n",
    "    two_step()\n",
    "    print(\" \")\n",
    "\n",
    "two_step()\n",
    "two_step()"
   ]
  },
  {
   "cell_type": "markdown",
   "id": "b2af765c",
   "metadata": {},
   "source": [
    " Solving for X"
   ]
  },
  {
   "cell_type": "code",
   "execution_count": 3,
   "id": "f0a11039",
   "metadata": {},
   "outputs": [
    {
     "name": "stdout",
     "output_type": "stream",
     "text": [
      "x =  [2]\n"
     ]
    }
   ],
   "source": [
    "import sympy \n",
    "from sympy import symbols \n",
    "from sympy.solvers import solve \n",
    "\n",
    "x = symbols('x') \n",
    "\n",
    "# Put the equation here\n",
    "eq = 2*x - 4\n",
    "\n",
    "print(\"x = \", solve(eq,x))"
   ]
  },
  {
   "cell_type": "code",
   "execution_count": 8,
   "id": "b074ea09",
   "metadata": {},
   "outputs": [
    {
     "name": "stdout",
     "output_type": "stream",
     "text": [
      "x =  [-2*sqrt(3), 2*sqrt(3)]\n"
     ]
    }
   ],
   "source": [
    "x = symbols('x') \n",
    "\n",
    "# Put the equation here\n",
    "eq = x**2 - 12\n",
    "\n",
    "print(\"x = \", solve(eq,x))"
   ]
  },
  {
   "cell_type": "code",
   "execution_count": 9,
   "id": "0a28bcb0",
   "metadata": {},
   "outputs": [
    {
     "name": "stdout",
     "output_type": "stream",
     "text": [
      "x =  [-4/5]\n"
     ]
    }
   ],
   "source": [
    "x = symbols('x') \n",
    "\n",
    "# Put the equation here\n",
    "eq = 5*x + 4\n",
    "\n",
    "print(\"x = \", solve(eq,x))"
   ]
  },
  {
   "cell_type": "code",
   "execution_count": 7,
   "id": "8802dc52",
   "metadata": {},
   "outputs": [
    {
     "name": "stdout",
     "output_type": "stream",
     "text": [
      "x =  [4]\n"
     ]
    }
   ],
   "source": [
    "eq =3*x - 12\n",
    "print(\"x = \", solve(eq,x))"
   ]
  },
  {
   "cell_type": "code",
   "execution_count": 1,
   "id": "9dd454e0",
   "metadata": {},
   "outputs": [
    {
     "name": "stdout",
     "output_type": "stream",
     "text": [
      "10\n",
      "100\n",
      "1000\n",
      "1\n",
      "0.1\n",
      "0.01\n",
      "0.001\n"
     ]
    }
   ],
   "source": [
    "print(10**1)\n",
    "print(10**2)\n",
    "print(10**3)\n",
    "\n",
    "print(10**0)\n",
    "\n",
    "print(10**-1)\n",
    "print(10**-2)\n",
    "print(10**-3)"
   ]
  },
  {
   "cell_type": "code",
   "execution_count": 2,
   "id": "78f46536",
   "metadata": {},
   "outputs": [
    {
     "name": "stdout",
     "output_type": "stream",
     "text": [
      "Enter a numbertext+3\n",
      "text+3\n",
      "6\n"
     ]
    }
   ],
   "source": [
    "text = input(\"Enter a number\")\n",
    "print(text)\n",
    "\n",
    "print(len(text))\n",
    "\n",
    "# error - can't do math here\n",
    "# print(text+3)"
   ]
  },
  {
   "cell_type": "code",
   "execution_count": 5,
   "id": "e49fe006",
   "metadata": {},
   "outputs": [
    {
     "name": "stdout",
     "output_type": "stream",
     "text": [
      "Enter a number1\n",
      "5.0\n"
     ]
    }
   ],
   "source": [
    "text = input(\"Enter a number\")\n",
    "num = float(text)\n",
    "print(num + 4)"
   ]
  },
  {
   "cell_type": "code",
   "execution_count": null,
   "id": "c4483845",
   "metadata": {},
   "outputs": [],
   "source": [
    "# Get string input, which will include a decimal point\n",
    "digits = input(\"Enter a decimal number to convert: \")\n",
    "\n",
    "# Get number of decimal places as an integer\n",
    "exponent = int(len(digits))-1\n",
    "\n",
    "# Convert the input to a float number\n",
    "n = float(digits)\n",
    "\n",
    "# Use the exponent to get the numerator\n",
    "numerator = int(n * 10**exponent)\n",
    "\n",
    "# Use the expoent to get the denominator\n",
    "denominator = 10**exponent\n",
    "\n",
    "# percent is the first two decimal places\n",
    "percent = n * 100\n",
    "\n",
    "# Output\n",
    "print(\"The decimal is \", n)\n",
    "print(\"The fraction is \", numerator, \"/\", denominator)\n",
    "print(\"The percent is \", percent, \" %\")"
   ]
  }
 ],
 "metadata": {
  "kernelspec": {
   "display_name": "Python 3 (ipykernel)",
   "language": "python",
   "name": "python3"
  },
  "language_info": {
   "codemirror_mode": {
    "name": "ipython",
    "version": 3
   },
   "file_extension": ".py",
   "mimetype": "text/x-python",
   "name": "python",
   "nbconvert_exporter": "python",
   "pygments_lexer": "ipython3",
   "version": "3.9.18"
  }
 },
 "nbformat": 4,
 "nbformat_minor": 5
}
