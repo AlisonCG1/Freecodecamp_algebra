{
 "cells": [
  {
   "cell_type": "markdown",
   "id": "2a601beb",
   "metadata": {},
   "source": [
    "Algebra in python:\n",
    "\n",
    "Ratios and Proportions"
   ]
  },
  {
   "cell_type": "markdown",
   "id": "c8742ff9",
   "metadata": {},
   "source": [
    "Set up a proportion:\n",
    "𝑛1|𝑑1 = 𝑛2|𝑑2 "
   ]
  },
  {
   "cell_type": "code",
   "execution_count": null,
   "id": "983903d5",
   "metadata": {},
   "outputs": [],
   "source": [
    "# Put a zero in for the unknown value\n",
    "n1 = 1\n",
    "d1 = 2\n",
    "n2 = 4\n",
    "d2 = 0\n",
    "\n",
    "if n2==0:\n",
    "    answer = d2 * n1 / d1\n",
    "    print(\"n2 = \", answer)\n",
    "\n",
    "if d2==0:\n",
    "    answer = n2 * d1 / n1\n",
    "    print(\"d2 = \", answer)\n"
   ]
  },
  {
   "cell_type": "code",
   "execution_count": null,
   "id": "2c823ba7",
   "metadata": {},
   "outputs": [],
   "source": [
    "# converts string input (even fractions) to float\n",
    "def string_frac(in_string):\n",
    "    if \"/\" in in_string:\n",
    "        nd = in_string.split(\"/\")\n",
    "        n = float(nd[0])\n",
    "        d = float(nd[1])\n",
    "        ans = n/d\n",
    "        return ans\n",
    "    else:\n",
    "        ans = float(in_string)\n",
    "        return ans\n",
    "\n",
    "\n",
    "# Simplest one-step addition\n",
    "def one_step_add():\n",
    "    import random\n",
    "    # Display problem\n",
    "    a = random.randint(-4,10)\n",
    "    b = random.randint(2,24)\n",
    "    print(\"x + \", a, \" = \", b)\n",
    "    ans = float(input(\"x = \"))\n",
    "    answer = b-a\n",
    "    # Test input\n",
    "    if ans==answer:\n",
    "        print(\"Correct! \\n\")\n",
    "    else:\n",
    "        print(\"Try again\")\n",
    "        print(\"The correct answer is \", answer, \"\\n\")\n",
    "\n",
    "\n",
    "# One-step additon with negaive numbers\n",
    "def one_step_subtract():\n",
    "    import random\n",
    "    a = random.randint(-19,-1)\n",
    "    b = random.randint(2,24)\n",
    "    print(a, \" + x = \", b)\n",
    "    ans = float(input(\"x = \"))\n",
    "    # test\n",
    "    answer = b-a\n",
    "    if ans==answer:\n",
    "        print(\"Correct! \\n\")\n",
    "    else:\n",
    "        print(\"Try again\")\n",
    "        print(\"The correct answer is \", answer, \"\\n\")\n",
    "\n",
    "# One-step multiply\n",
    "def one_step_mult():\n",
    "    # Uses string_frac(<input string>)\n",
    "    import random\n",
    "    a = random.randint(1,11)\n",
    "    b = random.randint(2,24)\n",
    "    print(a, \"x = \", b)\n",
    "    print(\"Round your answer to two decimal places.\")\n",
    "    ans_in = (input(\"x = \"))\n",
    "    answer = round(b/a,2)\n",
    "    # test\n",
    "    if string_frac(ans_in)==answer:\n",
    "        print(\"Correct! \\n\")\n",
    "    else:\n",
    "        print(\"Try again\")\n",
    "        print(\"The correct answer is \", answer, \"\\n\")\n",
    "\n",
    "\n",
    "# One-step divide\n",
    "def one_step_div():\n",
    "    import random\n",
    "    a = random.randint(1,11)\n",
    "    b = random.randint(2,24)\n",
    "    print(\"x/\", a, \" = \", b)\n",
    "    ans = float(input(\"x = \"))\n",
    "    answer = b*a\n",
    "    # test\n",
    "    if ans==answer:\n",
    "        print(\"Correct! \\n\")\n",
    "    else:\n",
    "        print(\"Try again\")\n",
    "        print(\"The correct answer is \", answer, \"\\n\")\n",
    "\n",
    "\n",
    "# Two-step problems\n",
    "def two_step():\n",
    "    import random\n",
    "    # Uses string_frac()\n",
    "    a = random.randint(1,11)\n",
    "    b = random.randint(-7,12)\n",
    "    c = random.randint(2,36)\n",
    "    print(a, \"x + \", b, \" = \", c)\n",
    "    print(\"Round answer to two decimal places\")\n",
    "    ans_in = input(\"x = \")\n",
    "    answer = (c-b)/a\n",
    "    # test\n",
    "    if round(string_frac(ans_in),2)==round(answer,2):\n",
    "        print(\"Correct! \\n\")\n",
    "    else:\n",
    "        print(\"Try again\")\n",
    "        print(\"The correct answer is \", answer, \"\\n\")\n",
    "\n",
    "\n",
    "# test loop\n",
    "for a in range(2):\n",
    "    one_step_add()\n",
    "    one_step_subtract()\n",
    "    one_step_mult()\n",
    "    one_step_div()\n",
    "    two_step()\n",
    "    print(\" \")\n",
    "\n",
    "two_step()\n",
    "two_step()"
   ]
  },
  {
   "cell_type": "markdown",
   "id": "b2af765c",
   "metadata": {},
   "source": [
    " Solving for X"
   ]
  },
  {
   "cell_type": "code",
   "execution_count": 3,
   "id": "f0a11039",
   "metadata": {},
   "outputs": [
    {
     "name": "stdout",
     "output_type": "stream",
     "text": [
      "x =  [2]\n"
     ]
    }
   ],
   "source": [
    "import sympy \n",
    "from sympy import symbols \n",
    "from sympy.solvers import solve \n",
    "\n",
    "x = symbols('x') \n",
    "\n",
    "# Put the equation here\n",
    "eq = 2*x - 4\n",
    "\n",
    "print(\"x = \", solve(eq,x))"
   ]
  },
  {
   "cell_type": "code",
   "execution_count": 8,
   "id": "b074ea09",
   "metadata": {},
   "outputs": [
    {
     "name": "stdout",
     "output_type": "stream",
     "text": [
      "x =  [-2*sqrt(3), 2*sqrt(3)]\n"
     ]
    }
   ],
   "source": [
    "x = symbols('x') \n",
    "\n",
    "# Put the equation here\n",
    "eq = x**2 - 12\n",
    "\n",
    "print(\"x = \", solve(eq,x))"
   ]
  },
  {
   "cell_type": "code",
   "execution_count": 9,
   "id": "0a28bcb0",
   "metadata": {},
   "outputs": [
    {
     "name": "stdout",
     "output_type": "stream",
     "text": [
      "x =  [-4/5]\n"
     ]
    }
   ],
   "source": [
    "x = symbols('x') \n",
    "\n",
    "# Put the equation here\n",
    "eq = 5*x + 4\n",
    "\n",
    "print(\"x = \", solve(eq,x))"
   ]
  },
  {
   "cell_type": "code",
   "execution_count": 7,
   "id": "8802dc52",
   "metadata": {},
   "outputs": [
    {
     "name": "stdout",
     "output_type": "stream",
     "text": [
      "x =  [4]\n"
     ]
    }
   ],
   "source": [
    "eq =3*x - 12\n",
    "print(\"x = \", solve(eq,x))"
   ]
  },
  {
   "cell_type": "code",
   "execution_count": 1,
   "id": "9dd454e0",
   "metadata": {},
   "outputs": [
    {
     "name": "stdout",
     "output_type": "stream",
     "text": [
      "10\n",
      "100\n",
      "1000\n",
      "1\n",
      "0.1\n",
      "0.01\n",
      "0.001\n"
     ]
    }
   ],
   "source": [
    "print(10**1)\n",
    "print(10**2)\n",
    "print(10**3)\n",
    "\n",
    "print(10**0)\n",
    "\n",
    "print(10**-1)\n",
    "print(10**-2)\n",
    "print(10**-3)"
   ]
  },
  {
   "cell_type": "code",
   "execution_count": 2,
   "id": "78f46536",
   "metadata": {},
   "outputs": [
    {
     "name": "stdout",
     "output_type": "stream",
     "text": [
      "Enter a numbertext+3\n",
      "text+3\n",
      "6\n"
     ]
    }
   ],
   "source": [
    "text = input(\"Enter a number\")\n",
    "print(text)\n",
    "\n",
    "print(len(text))\n",
    "\n",
    "# error - can't do math here\n",
    "# print(text+3)"
   ]
  },
  {
   "cell_type": "code",
   "execution_count": 5,
   "id": "e49fe006",
   "metadata": {},
   "outputs": [
    {
     "name": "stdout",
     "output_type": "stream",
     "text": [
      "Enter a number1\n",
      "5.0\n"
     ]
    }
   ],
   "source": [
    "text = input(\"Enter a number\")\n",
    "num = float(text)\n",
    "print(num + 4)"
   ]
  },
  {
   "cell_type": "code",
   "execution_count": null,
   "id": "c4483845",
   "metadata": {},
   "outputs": [],
   "source": [
    "# Get string input, which will include a decimal point\n",
    "digits = input(\"Enter a decimal number to convert: \")\n",
    "\n",
    "# Get number of decimal places as an integer\n",
    "exponent = int(len(digits))-1\n",
    "\n",
    "# Convert the input to a float number\n",
    "n = float(digits)\n",
    "\n",
    "# Use the exponent to get the numerator\n",
    "numerator = int(n * 10**exponent)\n",
    "\n",
    "# Use the expoent to get the denominator\n",
    "denominator = 10**exponent\n",
    "\n",
    "# percent is the first two decimal places\n",
    "percent = n * 100\n",
    "\n",
    "# Output\n",
    "print(\"The decimal is \", n)\n",
    "print(\"The fraction is \", numerator, \"/\", denominator)\n",
    "print(\"The percent is \", percent, \" %\")"
   ]
  },
  {
   "cell_type": "code",
   "execution_count": 1,
   "id": "f171deb9",
   "metadata": {},
   "outputs": [
    {
     "name": "stdout",
     "output_type": "stream",
     "text": [
      "10\n",
      "100\n",
      "1000\n",
      "1\n",
      "0.1\n",
      "0.01\n",
      "0.001\n"
     ]
    }
   ],
   "source": [
    "print(10**1)\n",
    "print(10**2)\n",
    "print(10**3)\n",
    "\n",
    "print(10**0)\n",
    "\n",
    "print(10**-1)\n",
    "print(10**-2)\n",
    "print(10**-3)"
   ]
  },
  {
   "cell_type": "code",
   "execution_count": 2,
   "id": "9ec627fd",
   "metadata": {},
   "outputs": [
    {
     "ename": "KeyboardInterrupt",
     "evalue": "Interrupted by user",
     "output_type": "error",
     "traceback": [
      "\u001b[0;31m---------------------------------------------------------------------------\u001b[0m",
      "\u001b[0;31mKeyboardInterrupt\u001b[0m                         Traceback (most recent call last)",
      "Cell \u001b[0;32mIn[2], line 2\u001b[0m\n\u001b[1;32m      1\u001b[0m \u001b[38;5;66;03m#User input comes in as a string. You can find the length of the string\u001b[39;00m\n\u001b[0;32m----> 2\u001b[0m text \u001b[38;5;241m=\u001b[39m \u001b[38;5;28;43minput\u001b[39;49m\u001b[43m(\u001b[49m\u001b[38;5;124;43m\"\u001b[39;49m\u001b[38;5;124;43mEnter a number\u001b[39;49m\u001b[38;5;124;43m\"\u001b[39;49m\u001b[43m)\u001b[49m\n\u001b[1;32m      3\u001b[0m \u001b[38;5;28mprint\u001b[39m(text)\n\u001b[1;32m      5\u001b[0m \u001b[38;5;28mprint\u001b[39m(\u001b[38;5;28mlen\u001b[39m(text))\n",
      "File \u001b[0;32m~/opt/anaconda3/lib/python3.9/site-packages/ipykernel/kernelbase.py:1202\u001b[0m, in \u001b[0;36mKernel.raw_input\u001b[0;34m(self, prompt)\u001b[0m\n\u001b[1;32m   1200\u001b[0m     msg \u001b[38;5;241m=\u001b[39m \u001b[38;5;124m\"\u001b[39m\u001b[38;5;124mraw_input was called, but this frontend does not support input requests.\u001b[39m\u001b[38;5;124m\"\u001b[39m\n\u001b[1;32m   1201\u001b[0m     \u001b[38;5;28;01mraise\u001b[39;00m StdinNotImplementedError(msg)\n\u001b[0;32m-> 1202\u001b[0m \u001b[38;5;28;01mreturn\u001b[39;00m \u001b[38;5;28;43mself\u001b[39;49m\u001b[38;5;241;43m.\u001b[39;49m\u001b[43m_input_request\u001b[49m\u001b[43m(\u001b[49m\n\u001b[1;32m   1203\u001b[0m \u001b[43m    \u001b[49m\u001b[38;5;28;43mstr\u001b[39;49m\u001b[43m(\u001b[49m\u001b[43mprompt\u001b[49m\u001b[43m)\u001b[49m\u001b[43m,\u001b[49m\n\u001b[1;32m   1204\u001b[0m \u001b[43m    \u001b[49m\u001b[38;5;28;43mself\u001b[39;49m\u001b[38;5;241;43m.\u001b[39;49m\u001b[43m_parent_ident\u001b[49m\u001b[43m[\u001b[49m\u001b[38;5;124;43m\"\u001b[39;49m\u001b[38;5;124;43mshell\u001b[39;49m\u001b[38;5;124;43m\"\u001b[39;49m\u001b[43m]\u001b[49m\u001b[43m,\u001b[49m\n\u001b[1;32m   1205\u001b[0m \u001b[43m    \u001b[49m\u001b[38;5;28;43mself\u001b[39;49m\u001b[38;5;241;43m.\u001b[39;49m\u001b[43mget_parent\u001b[49m\u001b[43m(\u001b[49m\u001b[38;5;124;43m\"\u001b[39;49m\u001b[38;5;124;43mshell\u001b[39;49m\u001b[38;5;124;43m\"\u001b[39;49m\u001b[43m)\u001b[49m\u001b[43m,\u001b[49m\n\u001b[1;32m   1206\u001b[0m \u001b[43m    \u001b[49m\u001b[43mpassword\u001b[49m\u001b[38;5;241;43m=\u001b[39;49m\u001b[38;5;28;43;01mFalse\u001b[39;49;00m\u001b[43m,\u001b[49m\n\u001b[1;32m   1207\u001b[0m \u001b[43m\u001b[49m\u001b[43m)\u001b[49m\n",
      "File \u001b[0;32m~/opt/anaconda3/lib/python3.9/site-packages/ipykernel/kernelbase.py:1245\u001b[0m, in \u001b[0;36mKernel._input_request\u001b[0;34m(self, prompt, ident, parent, password)\u001b[0m\n\u001b[1;32m   1242\u001b[0m \u001b[38;5;28;01mexcept\u001b[39;00m \u001b[38;5;167;01mKeyboardInterrupt\u001b[39;00m:\n\u001b[1;32m   1243\u001b[0m     \u001b[38;5;66;03m# re-raise KeyboardInterrupt, to truncate traceback\u001b[39;00m\n\u001b[1;32m   1244\u001b[0m     msg \u001b[38;5;241m=\u001b[39m \u001b[38;5;124m\"\u001b[39m\u001b[38;5;124mInterrupted by user\u001b[39m\u001b[38;5;124m\"\u001b[39m\n\u001b[0;32m-> 1245\u001b[0m     \u001b[38;5;28;01mraise\u001b[39;00m \u001b[38;5;167;01mKeyboardInterrupt\u001b[39;00m(msg) \u001b[38;5;28;01mfrom\u001b[39;00m \u001b[38;5;28;01mNone\u001b[39;00m\n\u001b[1;32m   1246\u001b[0m \u001b[38;5;28;01mexcept\u001b[39;00m \u001b[38;5;167;01mException\u001b[39;00m:\n\u001b[1;32m   1247\u001b[0m     \u001b[38;5;28mself\u001b[39m\u001b[38;5;241m.\u001b[39mlog\u001b[38;5;241m.\u001b[39mwarning(\u001b[38;5;124m\"\u001b[39m\u001b[38;5;124mInvalid Message:\u001b[39m\u001b[38;5;124m\"\u001b[39m, exc_info\u001b[38;5;241m=\u001b[39m\u001b[38;5;28;01mTrue\u001b[39;00m)\n",
      "\u001b[0;31mKeyboardInterrupt\u001b[0m: Interrupted by user"
     ]
    }
   ],
   "source": [
    "#User input comes in as a string. You can find the length of the string\n",
    "text = input(\"Enter a number\")\n",
    "print(text)\n",
    "\n",
    "print(len(text))\n",
    "\n",
    "# error - can't do math here\n",
    "# print(text+3)"
   ]
  },
  {
   "cell_type": "code",
   "execution_count": 3,
   "id": "0e4834f4",
   "metadata": {},
   "outputs": [
    {
     "name": "stdout",
     "output_type": "stream",
     "text": [
      "Enter a number.235\n",
      "4.235\n"
     ]
    }
   ],
   "source": [
    "#Cast input as a `float` or `int` variable\n",
    "\n",
    "text = input(\"Enter a number\")\n",
    "num = float(text)\n",
    "print(num + 4)"
   ]
  },
  {
   "cell_type": "code",
   "execution_count": 4,
   "id": "b0094804",
   "metadata": {},
   "outputs": [
    {
     "name": "stdout",
     "output_type": "stream",
     "text": [
      "Enter a decimal number to convert: .234\n",
      "The decimal is  0.234\n",
      "The fraction is  234 / 1000\n",
      "The percent is  23.400000000000002  %\n"
     ]
    }
   ],
   "source": [
    "# Get string input, which will include a decimal point\n",
    "digits = input(\"Enter a decimal number to convert: \")\n",
    "\n",
    "# Get number of decimal places as an integer\n",
    "exponent = int(len(digits))-1\n",
    "\n",
    "# Convert the input to a float number\n",
    "n = float(digits)\n",
    "\n",
    "# Use the exponent to get the numerator\n",
    "numerator = int(n * 10**exponent)\n",
    "\n",
    "# Use the expoent to get the denominator\n",
    "denominator = 10**exponent\n",
    "\n",
    "# percent is the first two decimal places\n",
    "percent = n * 100\n",
    "\n",
    "# Output\n",
    "print(\"The decimal is \", n)\n",
    "print(\"The fraction is \", numerator, \"/\", denominator)\n",
    "print(\"The percent is \", percent, \" %\")"
   ]
  }
 ],
 "metadata": {
  "kernelspec": {
   "display_name": "Python 3 (ipykernel)",
   "language": "python",
   "name": "python3"
  },
  "language_info": {
   "codemirror_mode": {
    "name": "ipython",
    "version": 3
   },
   "file_extension": ".py",
   "mimetype": "text/x-python",
   "name": "python",
   "nbconvert_exporter": "python",
   "pygments_lexer": "ipython3",
   "version": "3.9.18"
  }
 },
 "nbformat": 4,
 "nbformat_minor": 5
}
