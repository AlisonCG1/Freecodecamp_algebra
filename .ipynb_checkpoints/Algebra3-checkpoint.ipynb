{
 "cells": [
  {
   "cell_type": "markdown",
   "id": "df502d94",
   "metadata": {},
   "source": []
  },
  {
   "cell_type": "markdown",
   "id": "5bab113f",
   "metadata": {},
   "source": [
    "# Factoring"
   ]
  },
  {
   "cell_type": "code",
   "execution_count": 8,
   "id": "e4342630",
   "metadata": {},
   "outputs": [],
   "source": [
    "import math\n",
    "import sympy\n",
    "from sympy import symbols"
   ]
  },
  {
   "cell_type": "code",
   "execution_count": 1,
   "id": "cd109061",
   "metadata": {},
   "outputs": [
    {
     "name": "stdout",
     "output_type": "stream",
     "text": [
      "1\n"
     ]
    }
   ],
   "source": [
    "#print(5%3) \n",
    "\n",
    "print(31%10) "
   ]
  },
  {
   "cell_type": "code",
   "execution_count": 2,
   "id": "b6256685",
   "metadata": {},
   "outputs": [
    {
     "name": "stdout",
     "output_type": "stream",
     "text": [
      "1\n",
      "2\n",
      "3\n",
      "4\n",
      "6\n",
      "12\n"
     ]
    }
   ],
   "source": [
    "number = 12 \n",
    "\n",
    "# Find all factors \n",
    "for test_factor in range(1,number+1): \n",
    "    if number%test_factor==0: \n",
    "        print(test_factor) "
   ]
  },
  {
   "cell_type": "code",
   "execution_count": 3,
   "id": "caa136fa",
   "metadata": {},
   "outputs": [
    {
     "name": "stdout",
     "output_type": "stream",
     "text": [
      "original:  12 / 24\n",
      "reduced:  1 / 2\n"
     ]
    }
   ],
   "source": [
    "numerator = 12\n",
    "denominator = 24\n",
    "factor = 1\n",
    "\n",
    "# Find greatest common factor \n",
    "for test_factor in range(1,denominator+1): \n",
    "    if numerator%test_factor==0 and denominator%test_factor==0:\n",
    "        factor = test_factor \n",
    "\n",
    "# Divide out greatest common factor \n",
    "n = int(numerator/factor) \n",
    "d = int(denominator/factor) \n",
    "\n",
    "print(\"original: \", numerator, \"/\", denominator) \n",
    "print(\"reduced: \", n, \"/\", d) "
   ]
  },
  {
   "cell_type": "code",
   "execution_count": 4,
   "id": "050bd5bf",
   "metadata": {},
   "outputs": [
    {
     "name": "stdout",
     "output_type": "stream",
     "text": [
      "Enter a decimal number to convert: 12\n",
      "The decimal is  12.0\n",
      "The fraction is  12 / 1\n"
     ]
    }
   ],
   "source": [
    "# Get the decimal number to convert\n",
    "digits = input(\"Enter a decimal number to convert: \") \n",
    "\n",
    "# Convert to fraction \n",
    "exponent = int(len(digits))-1 \n",
    "n = float(digits) \n",
    "numerator = int(n * 10**exponent) \n",
    "denominator = 10**exponent \n",
    "\n",
    "# Reduce that fraction\n",
    "factor = 1 \n",
    "for test_factor in range(1,denominator+1): \n",
    "    if numerator%test_factor==0 and denominator%test_factor==0: \n",
    "        factor = test_factor \n",
    "\n",
    "# Divide out greatest common factor \n",
    "num = int(numerator/factor) \n",
    "den = int(denominator/factor) \n",
    "\n",
    "# Output \n",
    "print(\"The decimal is \", n) \n",
    "print(\"The fraction is \", num, \"/\", den) "
   ]
  },
  {
   "cell_type": "code",
   "execution_count": 6,
   "id": "9659c5ca",
   "metadata": {},
   "outputs": [
    {
     "name": "stdout",
     "output_type": "stream",
     "text": [
      "4.898979485566356\n"
     ]
    }
   ],
   "source": [
    "#Next level... factoring square roots\n",
    "print(math.sqrt(24)) "
   ]
  },
  {
   "cell_type": "markdown",
   "id": "22548c96",
   "metadata": {},
   "source": [
    "Divide out any perfect square factors. For example:\n",
    "12‾‾‾√  =  4∗3‾‾‾‾‾√  = 2 3‾√ \n",
    "Because 4 is a square number, the square root of 4 is now outside the radical."
   ]
  },
  {
   "cell_type": "code",
   "execution_count": 7,
   "id": "bc2a4688",
   "metadata": {},
   "outputs": [
    {
     "name": "stdout",
     "output_type": "stream",
     "text": [
      "n =  12\n",
      "Square rooted factor =  2\n",
      "Square factor =  4\n",
      "integer:  3.0\n"
     ]
    }
   ],
   "source": [
    "# number to factor\n",
    "n = 12 \n",
    "\n",
    "# This variable will change\n",
    "max_factor = 1 \n",
    "\n",
    "# The key ingredient\n",
    "upper_limit = math.floor(math.sqrt(n)) + 1 \n",
    "\n",
    "# Find square factors\n",
    "for maybe_factor in range(1,upper_limit): \n",
    "    if n % (maybe_factor**2) == 0: \n",
    "        max_factor = maybe_factor \n",
    "\n",
    "# Results so far\n",
    "print(\"n = \", n) \n",
    "print(\"Square rooted factor = \", max_factor) \n",
    "print(\"Square factor = \", max_factor**2) \n",
    "print(\"integer: \", n/(max_factor**2)) "
   ]
  },
  {
   "cell_type": "code",
   "execution_count": 9,
   "id": "46b76320",
   "metadata": {},
   "outputs": [
    {
     "data": {
      "text/latex": [
       "$\\displaystyle 2 \\sqrt{6}$"
      ],
      "text/plain": [
       "2*sqrt(6)"
      ]
     },
     "execution_count": 9,
     "metadata": {},
     "output_type": "execute_result"
    }
   ],
   "source": [
    "#Using Sympy to make this look nice\n",
    "\n",
    "n = 24 \n",
    "\n",
    "# Use these variables\n",
    "upper_limit = math.floor(math.sqrt(n)) + 1 \n",
    "max_factor = 1 \n",
    "other_factor = 1 \n",
    "square_root = 1 \n",
    "\n",
    "# Slightly different variable strategy\n",
    "for maybe_factor in range(1, upper_limit): \n",
    "    if n % (maybe_factor**2) == 0: \n",
    "        max_factor = maybe_factor**2 \n",
    "\n",
    "# Divide out the greatest square factor\n",
    "other_factor = n/max_factor \n",
    "\n",
    "# Output variables\n",
    "square_root = int(math.sqrt(max_factor)) \n",
    "other_factor = int(other_factor) \n",
    "output = square_root*sympy.sqrt(other_factor) \n",
    "\n",
    "# Sympy output without print statement - must be last line\n",
    "output "
   ]
  },
  {
   "cell_type": "markdown",
   "id": "1f97a56a",
   "metadata": {},
   "source": [
    "Multi-Function Calculator\n",
    "\n",
    "For this challenge, you need to create a multi-function calculator using Python that take input and do the following:\n",
    "\n",
    "solve proportions\n",
    "solve for x in equations\n",
    "factor square roots\n",
    "convert decimals to fractions and percents\n",
    "convert fractions to decimals and percents\n",
    "convert percents to decimals and fractions"
   ]
  },
  {
   "cell_type": "markdown",
   "id": "cab3ef8e",
   "metadata": {},
   "source": [
    "Step 1 - Add\n",
    "\n",
    "To help you get familiar with Colab notebooks, you will start with the basics. Python uses +, -, *, and / for the four math operations: add, subtract, multiply, and divide. When you add two numbers, the result is the sum. Use addition within the print statement to get the sum of a and b. To run the code, you can hit \"shift\" and \"enter\" or you can click the run button (the triangle inside a circle)."
   ]
  },
  {
   "cell_type": "code",
   "execution_count": 13,
   "id": "d57d9d8b",
   "metadata": {},
   "outputs": [
    {
     "name": "stdout",
     "output_type": "stream",
     "text": [
      "Requirement already satisfied: requests in /Users/alisoncordoba/opt/anaconda3/lib/python3.9/site-packages (2.31.0)\n",
      "Requirement already satisfied: charset-normalizer<4,>=2 in /Users/alisoncordoba/opt/anaconda3/lib/python3.9/site-packages (from requests) (2.0.4)\n",
      "Requirement already satisfied: idna<4,>=2.5 in /Users/alisoncordoba/opt/anaconda3/lib/python3.9/site-packages (from requests) (3.4)\n",
      "Requirement already satisfied: urllib3<3,>=1.21.1 in /Users/alisoncordoba/opt/anaconda3/lib/python3.9/site-packages (from requests) (1.26.18)\n",
      "Requirement already satisfied: certifi>=2017.4.17 in /Users/alisoncordoba/opt/anaconda3/lib/python3.9/site-packages (from requests) (2023.11.17)\n",
      "\n",
      " Test passed. You can go on to the next step.\n"
     ]
    }
   ],
   "source": [
    "# You may need to run this cell at the beginning of each new session\n",
    "\n",
    "!pip install requests\n",
    "\n",
    "# This will just take a few seconds\n",
    "\n",
    "import requests\n",
    "\n",
    "# Get the library from GitHub\n",
    "url = 'https://raw.githubusercontent.com/freeCodeCamp/cdn/main/build/math-cert-tests/math-code-test-a.py'\n",
    "r = requests.get(url)\n",
    "\n",
    "# Save the library in a local working directory\n",
    "with open('math_code_test_a.py', 'w') as f:\n",
    "    f.write(r.text)\n",
    "\n",
    "# Now you can import the library\n",
    "import math_code_test_a as test\n",
    "\n",
    "# This will tell you if the code works\n",
    "test.step19()"
   ]
  },
  {
   "cell_type": "code",
   "execution_count": 14,
   "id": "b9220ab6",
   "metadata": {},
   "outputs": [
    {
     "name": "stdout",
     "output_type": "stream",
     "text": [
      "3\n",
      " \n",
      "Code test passed\n",
      "Go on to the next step\n"
     ]
    }
   ],
   "source": [
    "a=1\n",
    "b=2\n",
    "\n",
    "# Change the next line to print the sum of a and b\n",
    "print(a + b)\n",
    "\n",
    "\n",
    "# Only change code above this line\n",
    "import math_code_test_a as test\n",
    "test.step01(In[-1].split('# Only change code above this line')[0])"
   ]
  },
  {
   "cell_type": "markdown",
   "id": "7321645d",
   "metadata": {},
   "source": [
    "# Step 2 - Subtract\n",
    "\n",
    "When you subtract two numbers, the result is the difference. Use subtraction in the print statement to get the difference between c and d. Remember to use \"shift\" and \"enter\" to run the code."
   ]
  },
  {
   "cell_type": "code",
   "execution_count": 15,
   "id": "1ddf1ee1",
   "metadata": {},
   "outputs": [
    {
     "name": "stdout",
     "output_type": "stream",
     "text": [
      "4\n",
      " \n",
      "Code test passed\n",
      "Go on to the next step\n"
     ]
    }
   ],
   "source": [
    "c = 7\n",
    "d = 3\n",
    "\n",
    "# Change the next line to print the positive difference between c and d\n",
    "print(c - d)\n",
    "\n",
    "test.step02(In[-1].split('# Only change code above this line')[0])"
   ]
  },
  {
   "cell_type": "markdown",
   "id": "35e2906b",
   "metadata": {},
   "source": [
    "Step 3 - Multiply\n",
    "\n",
    "When you multiply numbers, the result is the product. Use multiplication within the print statement to get the product of e and f:"
   ]
  },
  {
   "cell_type": "code",
   "execution_count": 16,
   "id": "c699bac6",
   "metadata": {},
   "outputs": [
    {
     "name": "stdout",
     "output_type": "stream",
     "text": [
      "8\n",
      " \n",
      "Code test passed\n",
      "Go on to the next step\n"
     ]
    }
   ],
   "source": [
    "e = 2\n",
    "f = 4\n",
    "\n",
    "# Change the next line to print the product of e and f\n",
    "print(e * f)\n",
    "\n",
    "\n",
    "# Only change code above this line\n",
    "test.step03(In[-1].split('# Only change code above this line')[0])"
   ]
  },
  {
   "cell_type": "markdown",
   "id": "957cb82f",
   "metadata": {},
   "source": [
    "Step 4 - Divide\n",
    "When you divide two numbers, the result is the quotient. Use division within the print statement to get the quotient of g and h:"
   ]
  },
  {
   "cell_type": "code",
   "execution_count": 17,
   "id": "0371863d",
   "metadata": {},
   "outputs": [
    {
     "name": "stdout",
     "output_type": "stream",
     "text": [
      "2.0\n",
      " \n",
      "Code test passed\n",
      "Go on to the next step\n"
     ]
    }
   ],
   "source": [
    "g = 8\n",
    "h = 4\n",
    "\n",
    "# Change the next line\n",
    "print(g / h)\n",
    "\n",
    "\n",
    "# Only change code above this line\n",
    "test.step04(In[-1].split('# Only change code above this line')[0])"
   ]
  },
  {
   "cell_type": "markdown",
   "id": "7c0ed29d",
   "metadata": {},
   "source": [
    "Step 5 - Cast Input\n",
    "\n",
    "User input comes in as a string, so you need to cast it as an integer or a float before doing any math. The code below asks for input and uses int() to cast it as an integer. Follow the model and cast the second variable as an integer. Then run the code an test it. (Remember to hit \"enter\" after you type each integer in the box.)"
   ]
  },
  {
   "cell_type": "code",
   "execution_count": 18,
   "id": "6dbf7d99",
   "metadata": {},
   "outputs": [
    {
     "name": "stdout",
     "output_type": "stream",
     "text": [
      "Enter a positive integer: 5\n",
      "Enter another positive integer: 6\n",
      "11\n",
      " \n",
      "Code test passed\n",
      "Go on to the next step\n"
     ]
    }
   ],
   "source": [
    "strA = input('Enter a positive integer: ')\n",
    "intA = int(strA)\n",
    "\n",
    "strB = input('Enter another positive integer: ')\n",
    "\n",
    "# Change the next line but keep the variable name:\n",
    "intB = int(strB)\n",
    "\n",
    "\n",
    "print(intA+intB)\n",
    "\n",
    "\n",
    "# Only change code above this line\n",
    "test.step05(In[-1].split('# Only change code above this line')[0])"
   ]
  },
  {
   "cell_type": "markdown",
   "id": "24379717",
   "metadata": {},
   "source": [
    "Step 6 - Input and cast on the same line\n",
    "\n",
    "You can prompt for input and cast that input on the same line. Notice the nested functions in the first line of code. Follow that model to prompt for input and cast that input as an integer on the same line."
   ]
  },
  {
   "cell_type": "code",
   "execution_count": 19,
   "id": "af2bd8cc",
   "metadata": {},
   "outputs": [
    {
     "name": "stdout",
     "output_type": "stream",
     "text": [
      "Enter an integer: 67\n",
      "Enter an integer: 78\n",
      "145\n",
      " \n",
      "Code test passed\n",
      "Go on to the next step\n"
     ]
    }
   ],
   "source": [
    "intA = int(input('Enter an integer: '))\n",
    "\n",
    "# Change the next line but keep the variable name:\n",
    "intB = int(input('Enter an integer: '))\n",
    "\n",
    "\n",
    "print(intA+intB)\n",
    "\n",
    "\n",
    "# Only change code above this line\n",
    "test.step06(In[-1].split('# Only change code above this line')[0])"
   ]
  },
  {
   "cell_type": "markdown",
   "id": "1eb4fd63",
   "metadata": {},
   "source": [
    "Step 7 - Float numbers\n",
    "\n",
    "A float number allows decimal places. When prompting for a number as input, casting that as a float is usually the best choice. Follow the model below to prompt for input and cast that input as a float on the same line."
   ]
  },
  {
   "cell_type": "code",
   "execution_count": 20,
   "id": "b3fc6423",
   "metadata": {},
   "outputs": [
    {
     "name": "stdout",
     "output_type": "stream",
     "text": [
      "Enter a number: 4.5\n",
      "Enter a number: 6.7\n",
      "0.6716417910447761\n",
      " \n",
      "Code test passed\n",
      "Go on to the next step\n"
     ]
    }
   ],
   "source": [
    "a = float(input('Enter a number: '))\n",
    "\n",
    "# Change the next line but keep the variable name:\n",
    "b = float(input('Enter a number: '))\n",
    "\n",
    "\n",
    "\n",
    "print(a/b)\n",
    "\n",
    "\n",
    "# Only change code above this line\n",
    "test.step07(In[-1].split('# Only change code above this line')[0])"
   ]
  },
  {
   "cell_type": "markdown",
   "id": "c88f14f2",
   "metadata": {},
   "source": [
    "Step 8 - Order of Operations\n",
    "\n",
    "You may have heard of the order of operations and the acronym PEMDAS, which reminds you of the correct order. This means that you do what is in Parentheses first, then simplify Exponents. You then do all of the Multiplication and Division together, as long as you work from left to right and simplify them in order. The same is true of Addition and Subtraction: work from left to right and simplify the one the comes up next. Python knows the order of operations. In the following code, Python will calculate the actual_answer correctly. Notice the use of ** to indicate an exponent. Do the arithmetic in your head (no writing code) and change the your_answer variable, then run the code to see if your_answer matches the actual_answer."
   ]
  },
  {
   "cell_type": "code",
   "execution_count": 21,
   "id": "2e46b851",
   "metadata": {},
   "outputs": [
    {
     "name": "stdout",
     "output_type": "stream",
     "text": [
      "Actual answer is  8.0\n",
      "Your answer is  8\n",
      " \n",
      "Code test passed\n",
      "Go on to the next step\n"
     ]
    }
   ],
   "source": [
    "actual_answer = (1+4*2-14/2)**3\n",
    "\n",
    "# Put your answer on the following line:\n",
    "your_answer = 8\n",
    "\n",
    "print('Actual answer is ', actual_answer)\n",
    "print('Your answer is ', your_answer)\n",
    "\n",
    "\n",
    "# Only change code above this line\n",
    "test.step08(your_answer)"
   ]
  },
  {
   "cell_type": "markdown",
   "id": "386e72e2",
   "metadata": {},
   "source": [
    "Step 9 - Remainder and Modulus\n",
    "\n",
    "A remainder is what is left over when you try to divide two numbers and it doesn’t divide evenly. The remainder of 10 / 4 is 2 because 4 goes into 10 two whole times, with 2 left over. The modulus (%) operator will output the remainder, so 10 % 4 will return 2. Use the modulus operator to find the remainder of a divided by b:"
   ]
  },
  {
   "cell_type": "code",
   "execution_count": 22,
   "id": "c58f9352",
   "metadata": {},
   "outputs": [
    {
     "name": "stdout",
     "output_type": "stream",
     "text": [
      "2\n",
      " \n",
      "Code test passed\n",
      "Go on to the next step\n"
     ]
    }
   ],
   "source": [
    "a = 14\n",
    "b = 6\n",
    "\n",
    "# Change this line\n",
    "print(a % b)\n",
    "\n",
    "\n",
    "# Only change code above this line\n",
    "test.step09(In[-1].split('# Only change code above this line')[0])"
   ]
  },
  {
   "cell_type": "markdown",
   "id": "240deba1",
   "metadata": {},
   "source": [
    "Step 10 - Modulus and Factors\n",
    "\n",
    "Use an if statement with the modulus operator to find out if one number is a factor of another. For example, to see if 5 is a factor of 20, you can test if 20 % 5 == 0. If there's no remainder, the second number is a factor of the first. Remember that Python comparisons use == to test values. Remember that the if statement ends in a colon (:) and the resulting block is indented four spaces. Finish the code below to print \"true\" if test_factor is a factor of number and print \"false\" if it is not."
   ]
  },
  {
   "cell_type": "code",
   "execution_count": 24,
   "id": "2d5fd0be",
   "metadata": {},
   "outputs": [
    {
     "name": "stdout",
     "output_type": "stream",
     "text": [
      "Enter an integer: 56\n",
      "Enter an integer to see if it’s a factor: 78\n",
      "false\n",
      " \n",
      "Code test passed\n",
      "Go on to the next step\n"
     ]
    }
   ],
   "source": [
    "number = int(input('Enter an integer: '))\n",
    "test_factor = int(input('Enter an integer to see if it’s a factor: '))\n",
    "\n",
    "# Change the next line to test the factor:\n",
    "if number % test_factor == 0:\n",
    "    print('true')\n",
    "else:\n",
    "    print('false')\n",
    "\n",
    "\n",
    "# Only change code above this line\n",
    "test.step10(In[-1].split('# Only change code above this line')[0])"
   ]
  },
  {
   "cell_type": "markdown",
   "id": "ff5b8bbe",
   "metadata": {},
   "source": [
    "Step 11 - Finding Factors\n",
    "\n",
    "Now you will find all of the factors of a number. This code has a loop with a variable, test_factor, that iterates through a defined range. Remember that the first line defining the loop ends in a colon (:) and each line in the loop requires a four-space indent. Change the if statement to find all the factors of number."
   ]
  },
  {
   "cell_type": "code",
   "execution_count": 26,
   "id": "befa614c",
   "metadata": {},
   "outputs": [
    {
     "name": "stdout",
     "output_type": "stream",
     "text": [
      "Enter an integer: 8\n",
      "1\n",
      "2\n",
      "4\n",
      "8\n",
      " \n",
      "Code test passed\n",
      "Go on to the next step\n"
     ]
    }
   ],
   "source": [
    "number = int(input('Enter an integer: '))\n",
    "\n",
    "# Only change the if statement:\n",
    "for test_factor in range(1, number+1):\n",
    "    if number % test_factor == 0:\n",
    "        print(test_factor)\n",
    "\n",
    "\n",
    "# Only change code above this line\n",
    "test.step11(In[-1].split('# Only change code above this line')[0])"
   ]
  },
  {
   "cell_type": "markdown",
   "id": "49cd7ed2",
   "metadata": {},
   "source": [
    "Step 12 - Prime Numbers\n",
    "\n",
    "A prime number is a number whose only factors are 1 and itself. The number 5 is prime because its only factors are 1 and 5, but the 6 is not prime because it has 1, 2, 3, and 6 as factors. Any number that is not a prime is a composite. For each iteration in the loop, test_number will be a possible factor. Change the if statement so that the code prints \"composite\" if number is not prime."
   ]
  },
  {
   "cell_type": "code",
   "execution_count": 28,
   "id": "0c6ace7c",
   "metadata": {},
   "outputs": [
    {
     "name": "stdout",
     "output_type": "stream",
     "text": [
      "Enter a positive integer: 7\n",
      "prime\n",
      " \n",
      "Code test passed\n",
      "Go on to the next step\n"
     ]
    }
   ],
   "source": [
    "number = int(input(\"Enter a positive integer: \"))\n",
    "\n",
    "prime_or_comp = \"prime\"\n",
    "\n",
    "for test_number in range(2,number):\n",
    "    # Change the if statement to test one factor here:\n",
    "    if number % test_number == 0:\n",
    "        prime_or_comp = \"composite\"\n",
    "\n",
    "print(prime_or_comp)\n",
    "\n",
    "\n",
    "# Only change code above this line\n",
    "test.step12(In[-1].split('# Only change code above this line')[0])"
   ]
  },
  {
   "cell_type": "markdown",
   "id": "f341f760",
   "metadata": {},
   "source": [
    "Step 13 - Reciprocals\n",
    "\n",
    "A reciprocal is a number \"flipped.\" The reciprocal of 23 is 32 and the reciprocal of 5 is 15 because whole numbers have denominators of 1. You can multiply a number by its reciprocal to get 1, so 5 * 15 = 1 and 23 * 32 = 1. To get the reciprocal of a number, take 1 divided by that number. Trying to get the reciprocal of zero will lead to a \"divide by zero\" error. Use a print statement to output the reciprocal of n as a decimal."
   ]
  },
  {
   "cell_type": "code",
   "execution_count": 29,
   "id": "4ca408c5",
   "metadata": {},
   "outputs": [
    {
     "name": "stdout",
     "output_type": "stream",
     "text": [
      "Enter a number: 8\n",
      "0.125\n",
      " \n",
      "Code test passed\n",
      "Go on to the next step\n"
     ]
    }
   ],
   "source": [
    "n = float(input('Enter a number: '))\n",
    "\n",
    "# Write your code here\n",
    "print(1/n)\n",
    "\n",
    "\n",
    "# Only change code above this line\n",
    "test.step13(In[-1].split('# Only change code above this line')[0])"
   ]
  },
  {
   "cell_type": "markdown",
   "id": "2b07e5a6",
   "metadata": {},
   "source": [
    "Step 14 - Splitting input\n",
    "\n",
    "The code below asks for two integers, separated by a comma, then splits the input at the comma. Notice the input remains a string, then the split() function creates an array with two elements. Finish the following code to cast the two variables a and b as float numbers, then divide the two numbers and print the result."
   ]
  },
  {
   "cell_type": "code",
   "execution_count": 30,
   "id": "9604ae1e",
   "metadata": {},
   "outputs": [
    {
     "name": "stdout",
     "output_type": "stream",
     "text": [
      "Enter two numbers, separated by a comma: 8,9\n",
      "0.8888888888888888\n",
      " \n",
      "Code test passed\n",
      "Go on to the next step\n"
     ]
    }
   ],
   "source": [
    "nums = input('Enter two numbers, separated by a comma: ')\n",
    "sp = nums.split(\",\")\n",
    "\n",
    "# Use the next line as a model:\n",
    "a = float(sp[0])\n",
    "\n",
    "# Change the next line to cast the number as a float:\n",
    "b = float(sp[1])\n",
    "\n",
    "# Change the print statement:\n",
    "print(float(a/b))\n",
    "\n",
    "# Only change code above this line\n",
    "test.step14(In[-1].split('# Only change code above this line')[0])"
   ]
  },
  {
   "cell_type": "markdown",
   "id": "08f3f99c",
   "metadata": {},
   "source": [
    "Step 15 - Square Numbers\n",
    "\n",
    "One factor multiplied by itself will produce a square number, so a number raised to an exponent of 2 is that number squared (like calculating the area of a square). Python uses ** to indicate exponents. Complete the code to print the square of the input."
   ]
  },
  {
   "cell_type": "code",
   "execution_count": 31,
   "id": "6d39cef7",
   "metadata": {},
   "outputs": [
    {
     "name": "stdout",
     "output_type": "stream",
     "text": [
      "Enter a number to square: 6\n",
      "36.0\n",
      " \n",
      "Code test passed\n",
      "Go on to the next step\n"
     ]
    }
   ],
   "source": [
    " n = float(input('Enter a number to square: '))\n",
    "\n",
    "# Change this line of code:\n",
    "print(n**2)\n",
    "\n",
    "# Only change code above this line\n",
    "test.step15(In[-1].split('# Only change code above this line')[0])"
   ]
  },
  {
   "cell_type": "code",
   "execution_count": null,
   "id": "43ae43fe",
   "metadata": {},
   "outputs": [],
   "source": []
  },
  {
   "cell_type": "code",
   "execution_count": null,
   "id": "5cf918f6",
   "metadata": {},
   "outputs": [],
   "source": []
  }
 ],
 "metadata": {
  "kernelspec": {
   "display_name": "Python 3 (ipykernel)",
   "language": "python",
   "name": "python3"
  },
  "language_info": {
   "codemirror_mode": {
    "name": "ipython",
    "version": 3
   },
   "file_extension": ".py",
   "mimetype": "text/x-python",
   "name": "python",
   "nbconvert_exporter": "python",
   "pygments_lexer": "ipython3",
   "version": "3.9.18"
  }
 },
 "nbformat": 4,
 "nbformat_minor": 5
}
