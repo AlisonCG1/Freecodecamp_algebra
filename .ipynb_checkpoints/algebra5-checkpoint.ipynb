{
 "cells": [
  {
   "cell_type": "code",
   "execution_count": 3,
   "id": "13425dd7-37b4-4e2d-95ef-d27bc0d7c43b",
   "metadata": {},
   "outputs": [
    {
     "name": "stdout",
     "output_type": "stream",
     "text": [
      "Intel MKL WARNING: Support of Intel(R) Streaming SIMD Extensions 4.2 (Intel(R) SSE4.2) enabled only processors has been deprecated. Intel oneAPI Math Kernel Library 2025.0 will require Intel(R) Advanced Vector Extensions (Intel(R) AVX) instructions.\n",
      "Intel MKL WARNING: Support of Intel(R) Streaming SIMD Extensions 4.2 (Intel(R) SSE4.2) enabled only processors has been deprecated. Intel oneAPI Math Kernel Library 2025.0 will require Intel(R) Advanced Vector Extensions (Intel(R) AVX) instructions.\n"
     ]
    }
   ],
   "source": [
    "import sympy \n",
    "from sympy import symbols \n",
    "from sympy.solvers import solve \n",
    "import matplotlib.pyplot as plt"
   ]
  },
  {
   "cell_type": "markdown",
   "id": "05b9da84-6be5-429e-b8f4-80a9f554f1b7",
   "metadata": {},
   "source": [
    "# Word Problems"
   ]
  },
  {
   "cell_type": "markdown",
   "id": "8e93b22a-1248-4d7c-ab86-dc5fe035e9ae",
   "metadata": {},
   "source": [
    "Jessica is walking home from a friend's house. After 2 minutes she is 1.4 miles from home. Twelve minutes after leaving, she is 0.9 miles from home. What is her rate in miles per hour?"
   ]
  },
  {
   "cell_type": "code",
   "execution_count": 4,
   "id": "1a95eeb9-bb6f-4c21-8722-24a4f6a6e13b",
   "metadata": {},
   "outputs": [
    {
     "name": "stdout",
     "output_type": "stream",
     "text": [
      "y =  -2.999999999999999 x +  1.4999999999999998\n"
     ]
    },
    {
     "data": {
      "image/png": "[encoded data removed]",
      "text/plain": [
       "<Figure size 640x480 with 1 Axes>"
      ]
     },
     "metadata": {},
     "output_type": "display_data"
    }
   ],
   "source": [
    "x1 = 2/60 #1\n",
    "y1 = 1.4 #7\n",
    "x2 = 12/60 #2\n",
    "y2 = .9 #10\n",
    "\n",
    "# The slope is \"m\"\n",
    "m = (y2 - y1) / (x2 - x1)\n",
    "\n",
    "# The y-intercept is \"b\"\n",
    "b = y1 - m*x1\n",
    "\n",
    "# The full equation\n",
    "print(\"y = \", m, \"x + \", b)\n",
    "\n",
    "# For the graph\n",
    "xmin = -10\n",
    "xmax = 10\n",
    "ymin = -10\n",
    "ymax = 10\n",
    "\n",
    "# For the line on the graph\n",
    "y3 = m*xmin + b \n",
    "y4 = m*xmax + b \n",
    "\n",
    "# Basic setup for the graph\n",
    "fig, ax = plt.subplots()\n",
    "plt.axis([xmin,xmax,ymin,ymax]) # window size\n",
    "plt.plot([xmin,xmax],[0,0],'b') # blue x axis\n",
    "plt.plot([0,0],[ymin,ymax], 'b') # blue y-axis\n",
    "\n",
    "# Plot the linear function as a red line\n",
    "plt.plot([xmin,xmax],[y3,y4],'r')\n",
    "\n",
    "plt.show()"
   ]
  },
  {
   "cell_type": "code",
   "execution_count": null,
   "id": "a048ef44-f9a9-48eb-b294-c9a93089d35b",
   "metadata": {},
   "outputs": [],
   "source": []
  },
  {
   "cell_type": "markdown",
   "id": "60bad9aa-8510-42da-9ff6-b0bed611b915",
   "metadata": {},
   "source": [
    "Quadratics"
   ]
  },
  {
   "cell_type": "code",
   "execution_count": null,
   "id": "2313540f-551d-4159-b09f-a94260127d65",
   "metadata": {},
   "outputs": [],
   "source": [
    "# Coefficient values\n",
    "a = 1\n",
    "b = 5\n",
    "c = 6\n",
    "\n",
    "print(\"y = \", a, \"x**2 + \", b, \"x + \", c) \n",
    "\n",
    "# Vertex\n",
    "vx = -b/(2*a) \n",
    "vy = a*(vx**2) + b*vx + c \n",
    "print(\"Vertex: (\",vx,\",\",vy,\")\")\n",
    "\n",
    "# Roots\n",
    "d = b**2 - 4*a*c \n",
    "if d>=0: \n",
    "    root_1 = (-b + math.sqrt(d))/(2*a) \n",
    "    root_2 = (-b - math.sqrt(d))/(2*a) \n",
    "    print(\"Roots: x = \", root_1, \" and x = \", root_2)\n",
    "else:\n",
    "    print(\"No real roots\")\n"
   ]
  },
  {
   "cell_type": "code",
   "execution_count": null,
   "id": "96bb9920-721b-4a77-acb7-7e65e4df158f",
   "metadata": {},
   "outputs": [],
   "source": []
  },
  {
   "cell_type": "code",
   "execution_count": null,
   "id": "7a0ea9de-598d-4660-8554-e58c1da4936b",
   "metadata": {},
   "outputs": [],
   "source": []
  }
 ],
 "metadata": {
  "kernelspec": {
   "display_name": "Python 3 (ipykernel)",
   "language": "python",
   "name": "python3"
  },
  "language_info": {
   "codemirror_mode": {
    "name": "ipython",
    "version": 3
   },
   "file_extension": ".py",
   "mimetype": "text/x-python",
   "name": "python",
   "nbconvert_exporter": "python",
   "pygments_lexer": "ipython3",
   "version": "3.9.19"
  }
 },
 "nbformat": 4,
 "nbformat_minor": 5
}
